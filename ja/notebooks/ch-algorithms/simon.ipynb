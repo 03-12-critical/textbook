{
  "cells": [
    {
      "cell_type": "markdown",
      "metadata": {
        "tags": [
          "remove_cell"
        ]
      },
      "source": [
        "# サイモンのアルゴリズム"
      ]
    },
    {
      "cell_type": "markdown",
      "metadata": {
      },
      "source": [
        "このセクションでは、まずサイモン問題と、それを解決するための古典アルゴリズムと量子アルゴリズムを紹介します。次に、Qiskit を使用して量子アルゴリズムを実装し、シミュレーターとデバイス上で実行します。"
      ]
    },
    {
      "cell_type": "markdown",
      "metadata": {
      },
      "source": [
        "## 1. はじめに<a id=\"introduction\"></a>\n",
        "\n",
        "参考文献 [1] で最初に紹介された Simon のアルゴリズムは、特定の問題を解決する際に最高の古典的アルゴリズムと比較して指数関数的な高速化を示した最初の量子アルゴリズムでした。これは、最も有名な量子アルゴリズムであるショールの因数分解アルゴリズムで使用される量子フーリエ変換に基づく量子アルゴリズムにインスピレーションを与えました。\n",
        "\n",
        "### 1a.サイモンの問題<a id=\"problem\"> </a>\n",
        "\n",
        "未知のブラックボックス関数 $f$ が与えられますが、これは 1 対 1 ($1:1$) または 2 対 1 ($2:1$) のいずれかであることが保証されています。 to-one 関数には次のプロパティがあります。\n",
        "\n",
        "- **one-to-one** : すべての入力に対して 1 つの一意の出力を正確にマッピングします。 4 つの入力を取る関数の例は次のとおりです。\n",
        "\n",
        "$$f(1) \\rightarrow 1, \\quad f(2) \\rightarrow 2, \\quad f(3) \\rightarrow 3, \\quad f(4) \\rightarrow 4$$\n",
        "\n",
        "- **two-to-one** : 正確に 2 つの入力をすべての一意の出力にマッピングします。 4 つの入力を取る関数の例は次のとおりです。\n",
        "\n",
        "$$f(1) \\rightarrow 1, \\quad f(2) \\rightarrow 2, \\quad f(3) \\rightarrow 1, \\quad f(4) \\rightarrow 2$$\n",
        "\n",
        "この 2 対 1 マッピングは、隠しビット文字列 $b$ に従っています。ここで、\n",
        "\n",
        "$$\n",
        "\\textrm{given }x_1,x_2: \\quad f(x_1) = f(x_2) \\\\\n",
        "\\textrm{it is guaranteed }: \\quad x_1 \\oplus x_2 = b\n",
        "$$\n",
        "\n",
        "このブラックボックス $f$ が与えられた場合、$f$ が 1 対 1 か 2 対 1 かをどれだけ早く判断できるでしょうか?それでは、$f$ が 2 対 1 であることが判明した場合、どれくらい早く $b$ を決定できるでしょうか?結局のところ、どちらの場合も、$b={000...}$ のビット文字列が 1 対 1 の $f$ を表す $b$ を見つけるという同じ問題に帰着します。"
      ]
    },
    {
      "cell_type": "markdown",
      "metadata": {
      },
      "source": [
        "### 1b.サイモンのアルゴリズム<a id=\"algorithm\"> </a>\n",
        "\n",
        "#### 古典的な解決策\n",
        "\n",
        "古典的に、与えられた $f$ に対して $b$ が何であるかを 100% の確実性で知りたい場合は、最大 $2^{n−1}+1$ の入力をチェックする必要があります。ここで、n はビット数です。入力。これは、同じ出力の 2 つのケースが見つかるまで、考えられるすべての入力の半分強をチェックすることを意味します。ドイチュ・ジョッサ問題と同じように、運が良ければ最初の 2 回の試行で問題を解決できるかもしれません。しかし、たまたま 1 対 1 の $f$ を取得した場合、または*非常に*運悪く 2 対 1 の $f$ を取得した場合、完全な $2^{n−1}+ で立ち往生することになります。 1ドル。 $\\Omega(2^{n/2})$ の下限を持つ既知のアルゴリズムがあります (下記参考文献 2 を参照) が、一般に、複雑さは n とともに指数関数的に増加します。"
      ]
    },
    {
      "cell_type": "markdown",
      "metadata": {
      },
      "source": [
        "#### 量子ソリューション\n",
        "\n",
        "Simon のアルゴリズムを実装する量子回路を以下に示します。\n",
        "\n",
        "![画像1](images/simon_steps.png)\n",
        "\n",
        "ここで、クエリ関数 $\\text{Q}_f$ は 2 つの量子レジスタに対して次のように動作します。\n",
        "\n",
        "$$ \\lvert x \\rangle \\lvert a \\rangle \\rightarrow \\lvert x \\rangle \\lvert a \\oplus f(x) \\rangle $$\n",
        "\n",
        "2 番目のレジスタが $|0\\rangle = |00\\dots0\\rangle$ 状態にある特定のケースでは、次のようになります。\n",
        "\n",
        "$$ \\lvert x \\rangle \\lvert 0 \\rangle \\rightarrow \\lvert x \\rangle \\lvert f(x) \\rangle $$\n",
        "\n",
        "アルゴリズムには次の手順が含まれます。\n",
        "\n",
        "1. 2 つの $n$-qubit 入力レジスタはゼロ状態に初期化されます。\n",
        "\n",
        "    $$\\lvert \\psi_1 \\rangle = \\lvert 0 \\rangle^{\\otimes n} \\lvert 0 \\rangle^{\\otimes n} $$\n",
        "\n",
        "2. アダマール変換を最初のレジスタに適用します。\n",
        "\n",
        "    $$\\lvert \\psi_2 \\rangle = \\frac{1}{\\sqrt{2^n}} \\sum_{x \\in \\{0,1\\}^{n} } \\lvert x \\rangle\\lvert 0 \\rangle^{\\otimes n}  $$\n",
        "\n",
        "3. クエリ関数 $\\text{Q}_f$ を適用します。\n",
        "\n",
        "    $$ \\lvert \\psi_3 \\rangle = \\frac{1}{\\sqrt{2^n}} \\sum_{x \\in \\{0,1\\}^{n} } \\lvert x \\rangle \\lvert f(x) \\rangle $$\n",
        "\n",
        "4. 2 番目のレジスターを測定します。 $f(x)$ の特定の値が観察されます。問題の設定により、観測値 $f(x)$ は 2 つの可能な入力、$x$ と $y = x \\oplus b $ に対応する可能性があります。したがって、最初のレジスタは次のようになります。\n",
        "\n",
        "    $$\\lvert \\psi_4 \\rangle = \\frac{1}{\\sqrt{2}}  \\left( \\lvert x \\rangle + \\lvert y \\rangle \\right)$$\n",
        "\n",
        "    ここで、2 番目のレジスタは測定済みであるため省略しました。\n",
        "\n",
        "5. 最初のレジスターにアダマールを適用します。\n",
        "\n",
        "    $$ \\lvert \\psi_5 \\rangle = \\frac{1}{\\sqrt{2^{n+1}}} \\sum_{z \\in \\{0,1\\}^{n} } \\left[  (-1)^{x \\cdot z} + (-1)^{y \\cdot z} \\right]  \\lvert z \\rangle  $$\n",
        "\n",
        "6. 最初のレジスタを測定すると、次の場合にのみ出力が得られます。\n",
        "\n",
        "    $$ (-1)^{x \\cdot z} = (-1)^{y \\cdot z} $$これは次のことを意味します。\n",
        "\n",
        "    $$\n",
        "       x \\cdot z = y \\cdot z \\\\\n",
        "       x \\cdot z = \\left( x \\oplus b \\right) \\cdot z \\\\\n",
        "       x \\cdot z = x \\cdot z \\oplus b \\cdot z \\\\\n",
        "       b \\cdot z = 0 \\text{ (mod 2)}\n",
        "       $$\n",
        "\n",
        "    文字列 $z$ が測定され、その内積 $b = 0$ が求められます。したがって、アルゴリズムを $\\estimate n$ 回繰り返すと、$z$ の $n$ 個の異なる値を取得できるようになり、次の連立方程式を書くことができます。\n",
        "\n",
        "    $$ \\begin{cases} b \\cdot z_1 = 0 \\\\ b \\cdot z_2 = 0 \\\\ \\quad \\vdots \\\\ b \\cdot z_n = 0 \\end{cases}$$\n",
        "\n",
        "    $b$ は、たとえばガウス消去法によって決定できます。\n",
        "\n",
        "したがって、この特定の問題では、量子アルゴリズムは古典的なアルゴリズムよりも指数関数的に少ないステップを実行します。繰り返しになりますが、このアルゴリズムの応用を想像するのは難しいかもしれません (ただし、これはショールによって作成された最も有名なアルゴリズムに影響を与えました) が、量子を使用することで特定の問題を解決する際に指数関数的に高速化できるという最初の証拠となります。古典的なコンピューターではなくコンピューター。"
      ]
    },
    {
      "cell_type": "markdown",
      "metadata": {
      },
      "source": [
        "## 2. 例<a id=\"example\"></a>\n",
        "\n",
        "$y = x \\oplus b$ の場合、$f(x) = f(y)$ となる、秘密文字列 $b=11$ を使用した 2 量子ビットに対する Simon のアルゴリズムの例を見てみましょう。この問題を解決するための量子回路は次のとおりです。\n",
        "\n",
        "![画像2](images/simon_example.png)\n",
        "\n",
        "1. 2 つの $2$-qubit 入力レジスタはゼロ状態に初期化されます。\n",
        "\n",
        "    $$\\lvert \\psi_1 \\rangle = \\lvert 0 0 \\rangle_1 \\lvert 0 0 \\rangle_2 $$\n",
        "\n",
        "2. 最初のレジスタの量子ビットにアダマール ゲートを適用します。\n",
        "\n",
        "    $$\\lvert \\psi_2 \\rangle = \\frac{1}{2} \\left( \\lvert 0 0 \\rangle_1 + \\lvert 0 1 \\rangle_1 + \\lvert 1 0 \\rangle_1 + \\lvert 1 1 \\rangle_1 \\right) \\lvert 0 0 \\rangle_2 $$\n",
        "\n",
        "3. 文字列 $b=11$ の場合、クエリ関数`$\\text{Q}_f = CX_{1_a 2_a}CX_{1_a 2_b}CX_{1_b 2_a}CX_{1_b 2_b}$`実装できます (上の回路図):\n",
        "\n",
        "    $$\n",
        "       \\begin{aligned}\n",
        "       \\lvert \\psi_3 \\rangle  = \\frac{1}{2} ( \\;\n",
        "         &amp; \\lvert 0 0 \\rangle_1 \\; \\lvert 0\\oplus 0 \\oplus 0, &amp; 0 \\oplus 0 \\oplus 0 \\rangle_2 &amp;\\\\[5pt]\n",
        "       + &amp; \\lvert 0 1 \\rangle_1 \\; \\lvert 0\\oplus 0 \\oplus 1, &amp; 0 \\oplus 0 \\oplus 1 \\rangle_2 &amp;\\\\[6pt]\n",
        "       + &amp; \\lvert 1 0 \\rangle_1 \\; \\lvert 0\\oplus 1 \\oplus 0, &amp; 0 \\oplus 1 \\oplus 0 \\rangle_2 &amp;\\\\[6pt]\n",
        "       + &amp; \\lvert 1 1 \\rangle_1 \\; \\lvert 0\\oplus 1 \\oplus 1, &amp; 0 \\oplus 1 \\oplus 1 \\rangle_2 &amp; \\; )\\\\\n",
        "       \\end{aligned}\n",
        "       $$\n",
        "\n",
        "    したがって：\n",
        "\n",
        "    $$\n",
        "       \\begin{aligned}\n",
        "       \\lvert \\psi_3 \\rangle = \\frac{1}{2} ( \\quad\n",
        "       &amp; \\lvert 0 0 \\rangle_1  \\lvert 0 0 \\rangle_2 &amp; \\\\[6pt]\n",
        "       + &amp; \\lvert 0 1 \\rangle_1 \\lvert 1  1 \\rangle_2 &amp; \\\\[6pt]\n",
        "       + &amp; \\lvert 1 0 \\rangle_1 \\lvert  1   1  \\rangle_2 &amp; \\\\[6pt]\n",
        "       + &amp; \\lvert 1 1 \\rangle_1 \\lvert 0 0 \\rangle_2 &amp; \\; )\\\\\n",
        "       \\end{aligned}\n",
        "       $$\n",
        "\n",
        "4. 2番目のレジスタを測定します。 $50%$ の確率で、$\\lvert 0 0 \\rangle_2$ または $\\lvert 1 1 \\rangle_2$ のいずれかが表示されます。例として、$\\lvert 1 1 \\rangle_2$ が表示されたと仮定します。システムの状態$$ \\lvert \\psi_4 \\rangle = \\frac{1}{\\sqrt{2}} \\left( \\lvert 0 1 \\rangle_1 + \\lvert 1 0 \\rangle_1 \\right) $$ 2 番目のレジスタは測定済みなので省略しました。\n",
        "\n",
        "5. $$ \\lvert \\psi_5 \\rangle = \\frac{1}{2\\sqrt{2}} \\left[ \\left( \\lvert 0 \\rangle + \\lvert 1 \\rangle \\right) \\otimes \\left( \\lvert 0 \\rangle - \\lvert 1 \\rangle \\right) + \\left( \\lvert 0 \\rangle - \\lvert 1 \\rangle \\right) \\otimes \\left( \\lvert 0 \\rangle + \\lvert 1 \\rangle \\right) \\right] \\\\\n",
        "= \\frac{1}{2\\sqrt{2}} \\left[ \\lvert 0 0 \\rangle - \\lvert 0 1 \\rangle + \\lvert 1 0 \\rangle - \\lvert 1 1 \\rangle + \\lvert 0 0 \\rangle + \\lvert 0 1 \\rangle - \\lvert 1 0 \\rangle - \\lvert 1 1 \\rangle \\right] \\\\\n",
        "= \\frac{1}{\\sqrt{2}} \\left( \\lvert 0 0 \\rangle - \\lvert 1 1 \\rangle \\right)$$\n",
        "\n",
        "6. 最初のレジスタを測定すると、等しい確率で $\\lvert 0 0 \\rangle$ または $\\lvert 1 1 \\rangle$ が得られます。\n",
        "\n",
        "7. $\\lvert 1 1 \\rangle$ が表示された場合、次のようになります。\n",
        "\n",
        "    $$ b \\cdot 11 = 0 $$\n",
        "\n",
        "    これは $b \\neq 01$ または $10$ であることを示しており、残りの 2 つの潜在的な解は $b = 00$ または $b = 11$ であることがわかります。 $b = 00$ は常に連立方程式の自明な解となることに注意してください。手順 1 ～ 6 を何度も繰り返すと、$|00\\rangle$ または $|11\\rangle$ のみが測定されます。\n",
        "\n",
        "    GL_FORMULA_7\n",
        "    GL_FORMULA_8\n",
        "\n",
        "    $b=11$ を満たす唯一の方程式です。 $b=11$ を検証するには、ランダムな入力 ($x_i$) を選択し、$f(x_i) = f(x_i \\oplus b)$ をチェックします。例えば：\n",
        "\n",
        "    GL_FORMULA_9\n",
        "    GL_FORMULA_10"
      ]
    },
    {
      "cell_type": "markdown",
      "metadata": {
      },
      "source": [
        "## 3. Qiskitの実装<a id=\"implementation\"></a>\n",
        "\n",
        "ここで、$3$-qubits と $b=110$ を使用した例として、Simon のアルゴリズムを実装します。"
      ]
    },
    {
      "cell_type": "code",
      "execution_count": 1,
      "metadata": {
        "tags": [
          "thebelab-init"
        ]
      },
      "outputs": [

      ],
      "source": [
        "# importing Qiskit\n",
        "from qiskit import IBMQ, Aer\n",
        "from qiskit.providers.ibmq import least_busy\n",
        "from qiskit import QuantumCircuit, transpile\n",
        "\n",
        "# import basic plot tools\n",
        "from qiskit.visualization import plot_histogram\n",
        "from qiskit_textbook.tools import simon_oracle"
      ]
    },
    {
      "cell_type": "markdown",
      "metadata": {
      },
      "source": [
        "関数`simon_oracle` (上記でインポート) は、ビット文字列`b`の Simon oracle を作成します。説明は省略しましたが、その方法については[セクション 4](#oracle)で説明します。\n",
        "\n",
        "Qiskit では、量子回路の終端でのみ測定が許可されます。 Simon のアルゴリズムの場合、実際には 2 番目のレジスタの出力は気にせず、最初のレジスタのみを測定します。"
      ]
    },
    {
      "cell_type": "code",
      "execution_count": 3,
      "metadata": {
      },
      "outputs": [
        {
          "data": {
            "image/svg+xml": [
              "<?xml version=\"1.0\" encoding=\"UTF-8\"?><!DOCTYPE svg  PUBLIC '-//W3C//DTD SVG 1.1//EN'  'http://www.w3.org/Graphics/SVG/1.1/DTD/svg11.dtd'><svg width=\"625.19pt\" height=\"350.74pt\" version=\"1.1\" viewBox=\"0 0 625.19 350.74\" xmlns=\"http://www.w3.org/2000/svg\" xmlns:xlink=\"http://www.w3.org/1999/xlink\"><defs><style type=\"text/css\">*{stroke-linecap:butt;stroke-linejoin:round;}</style></defs><path d=\"m-0 350.74h625.19v-350.74h-625.19z\" fill=\"#ffffff\"/><path d=\"m491.18 305.93h11.817l-5.9086 8.5221z\" clip-path=\"url(#p9ce2988602)\" fill=\"#778899\"/><path d=\"m536.64 305.93h11.817l-5.9086 8.5221z\" clip-path=\"url(#p9ce2988602)\" fill=\"#778899\"/><path d=\"m582.09 305.93h11.817l-5.9086 8.5221z\" clip-path=\"url(#p9ce2988602)\" fill=\"#778899\"/><path d=\"m63.491 43.561h549.96\" clip-path=\"url(#p9ce2988602)\" fill=\"none\" stroke=\"#000000\" stroke-linecap=\"square\" stroke-width=\"2\"/><path d=\"m63.491 89.012h549.96\" clip-path=\"url(#p9ce2988602)\" fill=\"none\" stroke=\"#000000\" stroke-linecap=\"square\" stroke-width=\"2\"/><path d=\"m63.491 134.46h549.96\" clip-path=\"url(#p9ce2988602)\" fill=\"none\" stroke=\"#000000\" stroke-linecap=\"square\" stroke-width=\"2\"/><path d=\"m63.491 179.91h549.96\" clip-path=\"url(#p9ce2988602)\" fill=\"none\" stroke=\"#000000\" stroke-linecap=\"square\" stroke-width=\"2\"/><path d=\"m63.491 225.36h549.96\" clip-path=\"url(#p9ce2988602)\" fill=\"none\" stroke=\"#000000\" stroke-linecap=\"square\" stroke-width=\"2\"/><path d=\"m63.491 270.82h549.96\" clip-path=\"url(#p9ce2988602)\" fill=\"none\" stroke=\"#000000\" stroke-linecap=\"square\" stroke-width=\"2\"/><path d=\"m63.491 314.79h549.96\" clip-path=\"url(#p9ce2988602)\" fill=\"none\" stroke=\"#778899\" stroke-linecap=\"square\" stroke-width=\"2\"/><path d=\"m63.491 317.74h549.96\" clip-path=\"url(#p9ce2988602)\" fill=\"none\" stroke=\"#778899\" stroke-linecap=\"square\" stroke-width=\"2\"/><path d=\"m124.62 66.286h17.726v-45.451h-17.726z\" clip-path=\"url(#p9ce2988602)\" fill=\"#bdbdbd\" opacity=\".6\"/><path d=\"m124.62 111.74h17.726v-45.451h-17.726z\" clip-path=\"url(#p9ce2988602)\" fill=\"#bdbdbd\" opacity=\".6\"/><path d=\"m124.62 157.19h17.726v-45.451h-17.726z\" clip-path=\"url(#p9ce2988602)\" fill=\"#bdbdbd\" opacity=\".6\"/><path d=\"m124.62 202.64h17.726v-45.451h-17.726z\" clip-path=\"url(#p9ce2988602)\" fill=\"#bdbdbd\" opacity=\".6\"/><path d=\"m124.62 248.09h17.726v-45.451h-17.726z\" clip-path=\"url(#p9ce2988602)\" fill=\"#bdbdbd\" opacity=\".6\"/><path d=\"m124.62 293.54h17.726v-45.451h-17.726z\" clip-path=\"url(#p9ce2988602)\" fill=\"#bdbdbd\" opacity=\".6\"/><path d=\"m397.33 66.286h17.726v-45.451h-17.726z\" clip-path=\"url(#p9ce2988602)\" fill=\"#bdbdbd\" opacity=\".6\"/><path d=\"m397.33 111.74h17.726v-45.451h-17.726z\" clip-path=\"url(#p9ce2988602)\" fill=\"#bdbdbd\" opacity=\".6\"/><path d=\"m397.33 157.19h17.726v-45.451h-17.726z\" clip-path=\"url(#p9ce2988602)\" fill=\"#bdbdbd\" opacity=\".6\"/><path d=\"m397.33 202.64h17.726v-45.451h-17.726z\" clip-path=\"url(#p9ce2988602)\" fill=\"#bdbdbd\" opacity=\".6\"/><path d=\"m397.33 248.09h17.726v-45.451h-17.726z\" clip-path=\"url(#p9ce2988602)\" fill=\"#bdbdbd\" opacity=\".6\"/><path d=\"m397.33 293.54h17.726v-45.451h-17.726z\" clip-path=\"url(#p9ce2988602)\" fill=\"#bdbdbd\" opacity=\".6\"/><path d=\"m72.581 320.81 4.5451-9.0902\" clip-path=\"url(#p9ce2988602)\" fill=\"none\" stroke=\"#778899\" stroke-linecap=\"square\" stroke-width=\"1.5\"/><path d=\"m178.94 179.91v-136.35\" clip-path=\"url(#p9ce2988602)\" fill=\"none\" stroke=\"#1192e8\" stroke-linecap=\"square\" stroke-width=\"2\"/><path d=\"m224.39 225.36v-136.35\" clip-path=\"url(#p9ce2988602)\" fill=\"none\" stroke=\"#1192e8\" stroke-linecap=\"square\" stroke-width=\"2\"/><path d=\"m269.84 270.82v-136.35\" clip-path=\"url(#p9ce2988602)\" fill=\"none\" stroke=\"#1192e8\" stroke-linecap=\"square\" stroke-width=\"2\"/><path d=\"m315.29 225.36v-136.35\" clip-path=\"url(#p9ce2988602)\" fill=\"none\" stroke=\"#1192e8\" stroke-linecap=\"square\" stroke-width=\"2\"/><path d=\"m360.74 270.82v-181.8\" clip-path=\"url(#p9ce2988602)\" fill=\"none\" stroke=\"#1192e8\" stroke-linecap=\"square\" stroke-width=\"2\"/><path d=\"m498.57 43.561v262.37\" clip-path=\"url(#p9ce2988602)\" fill=\"none\" stroke=\"#778899\" stroke-linecap=\"square\" stroke-width=\"2\"/><path d=\"m495.62 43.561v262.37\" clip-path=\"url(#p9ce2988602)\" fill=\"none\" stroke=\"#778899\" stroke-linecap=\"square\" stroke-width=\"2\"/><path d=\"m544.02 89.012v216.91\" clip-path=\"url(#p9ce2988602)\" fill=\"none\" stroke=\"#778899\" stroke-linecap=\"square\" stroke-width=\"2\"/><path d=\"m541.07 89.012v216.91\" clip-path=\"url(#p9ce2988602)\" fill=\"none\" stroke=\"#778899\" stroke-linecap=\"square\" stroke-width=\"2\"/><path d=\"m589.47 134.46v171.46\" clip-path=\"url(#p9ce2988602)\" fill=\"none\" stroke=\"#778899\" stroke-linecap=\"square\" stroke-width=\"2\"/><path d=\"m586.52 134.46v171.46\" clip-path=\"url(#p9ce2988602)\" fill=\"none\" stroke=\"#778899\" stroke-linecap=\"square\" stroke-width=\"2\"/><path d=\"m73.263 58.332h29.543v-29.543h-29.543z\" clip-path=\"url(#p9ce2988602)\" fill=\"#1192e8\" stroke=\"#1192e8\" stroke-width=\"1.5\"/><path d=\"m73.263 103.78h29.543v-29.543h-29.543z\" clip-path=\"url(#p9ce2988602)\" fill=\"#1192e8\" stroke=\"#1192e8\" stroke-width=\"1.5\"/><path d=\"m73.263 149.23h29.543v-29.543h-29.543z\" clip-path=\"url(#p9ce2988602)\" fill=\"#1192e8\" stroke=\"#1192e8\" stroke-width=\"1.5\"/><path d=\"m178.94 47.992c1.1752 0 2.3025-0.46693 3.1335-1.2979 0.83102-0.83102 1.2979-1.9583 1.2979-3.1335 0-1.1752-0.46693-2.3025-1.2979-3.1335-0.83102-0.83102-1.9583-1.2979-3.1335-1.2979s-2.3025 0.46693-3.1335 1.2979c-0.83102 0.83102-1.2979 1.9583-1.2979 3.1335 0 1.1752 0.46693 2.3025 1.2979 3.1335 0.83102 0.83102 1.9583 1.2979 3.1335 1.2979z\" clip-path=\"url(#p9ce2988602)\" fill=\"#1192e8\" stroke=\"#1192e8\" stroke-width=\"1.5\"/><path d=\"m178.94 190.25c2.7422 0 5.3725-1.0895 7.3116-3.0285 1.939-1.939 3.0285-4.5693 3.0285-7.3116s-1.0895-5.3725-3.0285-7.3116c-1.939-1.939-4.5693-3.0285-7.3116-3.0285s-5.3725 1.0895-7.3116 3.0285c-1.939 1.939-3.0285 4.5693-3.0285 7.3116s1.0895 5.3725 3.0285 7.3116c1.939 1.939 4.5693 3.0285 7.3116 3.0285z\" clip-path=\"url(#p9ce2988602)\" fill=\"#1192e8\" stroke=\"#1192e8\" stroke-width=\"2\"/><path d=\"m224.39 93.443c1.1752 0 2.3025-0.46693 3.1335-1.2979 0.83102-0.83102 1.2979-1.9583 1.2979-3.1335s-0.46693-2.3025-1.2979-3.1335c-0.83102-0.83102-1.9583-1.2979-3.1335-1.2979-1.1752 0-2.3025 0.46693-3.1335 1.2979-0.83102 0.83102-1.2979 1.9583-1.2979 3.1335s0.46693 2.3025 1.2979 3.1335 1.9583 1.2979 3.1335 1.2979z\" clip-path=\"url(#p9ce2988602)\" fill=\"#1192e8\" stroke=\"#1192e8\" stroke-width=\"1.5\"/><path d=\"m224.39 235.7c2.7422 0 5.3725-1.0895 7.3116-3.0285 1.939-1.939 3.0285-4.5693 3.0285-7.3116s-1.0895-5.3725-3.0285-7.3116c-1.939-1.939-4.5693-3.0285-7.3116-3.0285-2.7422 0-5.3725 1.0895-7.3116 3.0285-1.939 1.939-3.0285 4.5693-3.0285 7.3116s1.0895 5.3725 3.0285 7.3116c1.939 1.939 4.5693 3.0285 7.3116 3.0285z\" clip-path=\"url(#p9ce2988602)\" fill=\"#1192e8\" stroke=\"#1192e8\" stroke-width=\"2\"/><path d=\"m269.84 138.89c1.1752 0 2.3025-0.46693 3.1335-1.2979 0.83102-0.83102 1.2979-1.9583 1.2979-3.1335 0-1.1752-0.46693-2.3025-1.2979-3.1335s-1.9583-1.2979-3.1335-1.2979-2.3025 0.46693-3.1335 1.2979c-0.83102 0.83102-1.2979 1.9583-1.2979 3.1335 0 1.1752 0.46693 2.3025 1.2979 3.1335 0.83102 0.83102 1.9583 1.2979 3.1335 1.2979z\" clip-path=\"url(#p9ce2988602)\" fill=\"#1192e8\" stroke=\"#1192e8\" stroke-width=\"1.5\"/><path d=\"m269.84 281.16c2.7422 0 5.3725-1.0895 7.3116-3.0285 1.939-1.939 3.0285-4.5693 3.0285-7.3116 0-2.7422-1.0895-5.3725-3.0285-7.3116-1.939-1.939-4.5693-3.0285-7.3116-3.0285s-5.3725 1.0895-7.3116 3.0285c-1.939 1.939-3.0285 4.5693-3.0285 7.3116 0 2.7422 1.0895 5.3725 3.0285 7.3116 1.939 1.939 4.5693 3.0285 7.3116 3.0285z\" clip-path=\"url(#p9ce2988602)\" fill=\"#1192e8\" stroke=\"#1192e8\" stroke-width=\"2\"/><path d=\"m315.29 93.443c1.1752 0 2.3025-0.46693 3.1335-1.2979 0.83102-0.83102 1.2979-1.9583 1.2979-3.1335s-0.46693-2.3025-1.2979-3.1335c-0.83102-0.83102-1.9583-1.2979-3.1335-1.2979s-2.3025 0.46693-3.1335 1.2979c-0.83102 0.83102-1.2979 1.9583-1.2979 3.1335s0.46693 2.3025 1.2979 3.1335 1.9583 1.2979 3.1335 1.2979z\" clip-path=\"url(#p9ce2988602)\" fill=\"#1192e8\" stroke=\"#1192e8\" stroke-width=\"1.5\"/><path d=\"m315.29 235.7c2.7422 0 5.3725-1.0895 7.3116-3.0285 1.939-1.939 3.0285-4.5693 3.0285-7.3116s-1.0895-5.3725-3.0285-7.3116c-1.939-1.939-4.5693-3.0285-7.3116-3.0285s-5.3725 1.0895-7.3116 3.0285c-1.939 1.939-3.0285 4.5693-3.0285 7.3116s1.0895 5.3725 3.0285 7.3116c1.939 1.939 4.5693 3.0285 7.3116 3.0285z\" clip-path=\"url(#p9ce2988602)\" fill=\"#1192e8\" stroke=\"#1192e8\" stroke-width=\"2\"/><path d=\"m360.74 93.443c1.1752 0 2.3025-0.46693 3.1335-1.2979 0.83102-0.83102 1.2979-1.9583 1.2979-3.1335s-0.46693-2.3025-1.2979-3.1335c-0.83102-0.83102-1.9583-1.2979-3.1335-1.2979-1.1752 0-2.3025 0.46693-3.1335 1.2979-0.83102 0.83102-1.2979 1.9583-1.2979 3.1335s0.46693 2.3025 1.2979 3.1335c0.83102 0.83102 1.9583 1.2979 3.1335 1.2979z\" clip-path=\"url(#p9ce2988602)\" fill=\"#1192e8\" stroke=\"#1192e8\" stroke-width=\"1.5\"/><path d=\"m360.74 281.16c2.7422 0 5.3725-1.0895 7.3116-3.0285s3.0285-4.5693 3.0285-7.3116c0-2.7422-1.0895-5.3725-3.0285-7.3116s-4.5693-3.0285-7.3116-3.0285c-2.7422 0-5.3725 1.0895-7.3116 3.0285s-3.0285 4.5693-3.0285 7.3116c0 2.7422 1.0895 5.3725 3.0285 7.3116s4.5693 3.0285 7.3116 3.0285z\" clip-path=\"url(#p9ce2988602)\" fill=\"#1192e8\" stroke=\"#1192e8\" stroke-width=\"2\"/><path d=\"m436.87 58.332h29.543v-29.543h-29.543z\" clip-path=\"url(#p9ce2988602)\" fill=\"#1192e8\" stroke=\"#1192e8\" stroke-width=\"1.5\"/><path d=\"m436.87 103.78h29.543v-29.543h-29.543z\" clip-path=\"url(#p9ce2988602)\" fill=\"#1192e8\" stroke=\"#1192e8\" stroke-width=\"1.5\"/><path d=\"m436.87 149.23h29.543v-29.543h-29.543z\" clip-path=\"url(#p9ce2988602)\" fill=\"#1192e8\" stroke=\"#1192e8\" stroke-width=\"1.5\"/><path d=\"m482.32 58.332h29.543v-29.543h-29.543z\" clip-path=\"url(#p9ce2988602)\" fill=\"#121619\" stroke=\"#121619\" stroke-width=\"1.5\"/><path d=\"m507.43 47.992c0-2.7413-1.0901-5.3732-3.0285-7.3116-1.9384-1.9384-4.5702-3.0285-7.3116-3.0285s-5.3732 1.0901-7.3116 3.0285c-1.9384 1.9384-3.0285 4.5702-3.0285 7.3116\" clip-path=\"url(#p9ce2988602)\" fill=\"none\" stroke=\"#ffffff\" stroke-width=\"2\"/><path d=\"m527.77 103.78h29.543v-29.543h-29.543z\" clip-path=\"url(#p9ce2988602)\" fill=\"#121619\" stroke=\"#121619\" stroke-width=\"1.5\"/><path d=\"m552.88 93.443c0-2.7413-1.0901-5.3732-3.0285-7.3116-1.9384-1.9384-4.5702-3.0285-7.3116-3.0285s-5.3732 1.0901-7.3116 3.0285c-1.9384 1.9384-3.0285 4.5702-3.0285 7.3116\" clip-path=\"url(#p9ce2988602)\" fill=\"none\" stroke=\"#ffffff\" stroke-width=\"2\"/><path d=\"m573.22 149.23h29.543v-29.543h-29.543z\" clip-path=\"url(#p9ce2988602)\" fill=\"#121619\" stroke=\"#121619\" stroke-width=\"1.5\"/><path d=\"m598.34 138.89c0-2.7413-1.0901-5.3732-3.0285-7.3116-1.9384-1.9384-4.5702-3.0285-7.3116-3.0285-2.7413 0-5.3732 1.0901-7.3116 3.0285-1.9384 1.9384-3.0285 4.5702-3.0285 7.3116\" clip-path=\"url(#p9ce2988602)\" fill=\"none\" stroke=\"#ffffff\" stroke-width=\"2\"/><path d=\"m497.09 47.992 10.34-10.34\" clip-path=\"url(#p9ce2988602)\" fill=\"none\" stroke=\"#ffffff\" stroke-linecap=\"square\" stroke-width=\"2\"/><path d=\"m542.54 93.443 10.34-10.34\" clip-path=\"url(#p9ce2988602)\" fill=\"none\" stroke=\"#ffffff\" stroke-linecap=\"square\" stroke-width=\"2\"/><path d=\"m588 138.89 10.34-10.34\" clip-path=\"url(#p9ce2988602)\" fill=\"none\" stroke=\"#ffffff\" stroke-linecap=\"square\" stroke-width=\"2\"/><path d=\"m133.49 20.835v45.451\" clip-path=\"url(#p9ce2988602)\" fill=\"none\" stroke=\"#000000\" stroke-dasharray=\"3.7,1.6\"/><path d=\"m133.49 66.286v45.451\" clip-path=\"url(#p9ce2988602)\" fill=\"none\" stroke=\"#000000\" stroke-dasharray=\"3.7,1.6\"/><path d=\"m133.49 111.74v45.451\" clip-path=\"url(#p9ce2988602)\" fill=\"none\" stroke=\"#000000\" stroke-dasharray=\"3.7,1.6\"/><path d=\"m133.49 157.19v45.451\" clip-path=\"url(#p9ce2988602)\" fill=\"none\" stroke=\"#000000\" stroke-dasharray=\"3.7,1.6\"/><path d=\"m133.49 202.64v45.451\" clip-path=\"url(#p9ce2988602)\" fill=\"none\" stroke=\"#000000\" stroke-dasharray=\"3.7,1.6\"/><path d=\"m133.49 248.09v45.451\" clip-path=\"url(#p9ce2988602)\" fill=\"none\" stroke=\"#000000\" stroke-dasharray=\"3.7,1.6\"/><path d=\"m178.94 185.82v-11.817\" clip-path=\"url(#p9ce2988602)\" fill=\"none\" stroke=\"#ffffff\" stroke-linecap=\"square\" stroke-width=\"2\"/><path d=\"m173.03 179.91h11.817\" clip-path=\"url(#p9ce2988602)\" fill=\"none\" stroke=\"#ffffff\" stroke-linecap=\"square\" stroke-width=\"2\"/><path d=\"m224.39 231.27v-11.817\" clip-path=\"url(#p9ce2988602)\" fill=\"none\" stroke=\"#ffffff\" stroke-linecap=\"square\" stroke-width=\"2\"/><path d=\"m218.48 225.36h11.817\" clip-path=\"url(#p9ce2988602)\" fill=\"none\" stroke=\"#ffffff\" stroke-linecap=\"square\" stroke-width=\"2\"/><path d=\"m269.84 276.72v-11.817\" clip-path=\"url(#p9ce2988602)\" fill=\"none\" stroke=\"#ffffff\" stroke-linecap=\"square\" stroke-width=\"2\"/><path d=\"m263.93 270.82h11.817\" clip-path=\"url(#p9ce2988602)\" fill=\"none\" stroke=\"#ffffff\" stroke-linecap=\"square\" stroke-width=\"2\"/><path d=\"m315.29 231.27v-11.817\" clip-path=\"url(#p9ce2988602)\" fill=\"none\" stroke=\"#ffffff\" stroke-linecap=\"square\" stroke-width=\"2\"/><path d=\"m309.38 225.36h11.817\" clip-path=\"url(#p9ce2988602)\" fill=\"none\" stroke=\"#ffffff\" stroke-linecap=\"square\" stroke-width=\"2\"/><path d=\"m360.74 276.72v-11.817\" clip-path=\"url(#p9ce2988602)\" fill=\"none\" stroke=\"#ffffff\" stroke-linecap=\"square\" stroke-width=\"2\"/><path d=\"m354.83 270.82h11.817\" clip-path=\"url(#p9ce2988602)\" fill=\"none\" stroke=\"#ffffff\" stroke-linecap=\"square\" stroke-width=\"2\"/><path d=\"m406.19 20.835v45.451\" clip-path=\"url(#p9ce2988602)\" fill=\"none\" stroke=\"#000000\" stroke-dasharray=\"3.7,1.6\"/><path d=\"m406.19 66.286v45.451\" clip-path=\"url(#p9ce2988602)\" fill=\"none\" stroke=\"#000000\" stroke-dasharray=\"3.7,1.6\"/><path d=\"m406.19 111.74v45.451\" clip-path=\"url(#p9ce2988602)\" fill=\"none\" stroke=\"#000000\" stroke-dasharray=\"3.7,1.6\"/><path d=\"m406.19 157.19v45.451\" clip-path=\"url(#p9ce2988602)\" fill=\"none\" stroke=\"#000000\" stroke-dasharray=\"3.7,1.6\"/><path d=\"m406.19 202.64v45.451\" clip-path=\"url(#p9ce2988602)\" fill=\"none\" stroke=\"#000000\" stroke-dasharray=\"3.7,1.6\"/><path d=\"m406.19 248.09v45.451\" clip-path=\"url(#p9ce2988602)\" fill=\"none\" stroke=\"#000000\" stroke-dasharray=\"3.7,1.6\"/><g clip-path=\"url(#p9ce2988602)\"><g transform=\"translate(36.363 48.012) scale(.1625 -.1625)\"><defs><path id=\"DejaVuSans-Oblique-71\" transform=\"scale(.015625)\" d=\"m2669 525q-231-303-546-460-314-156-695-156-531 0-833 358-301 358-301 986 0 506 186 978t533 847q225 244 517 375t614 131q387 0 637-153t363-462l100 525h578l-934-4813h-579l360 1844zm-1778 813q0-463 193-705 194-242 560-242 544 0 928 520t384 1264q0 450-199 689-198 239-569 239-272 0-504-127-231-126-403-370-181-256-286-600-104-343-104-668z\"/><path id=\"DejaVuSans-30\" transform=\"scale(.015625)\" d=\"m2034 4250q-487 0-733-480-245-479-245-1442 0-959 245-1439 246-480 733-480 491 0 736 480 246 480 246 1439 0 963-246 1442-245 480-736 480zm0 500q785 0 1199-621 414-620 414-1801 0-1178-414-1799-414-620-1199-620-784 0-1198 620-414 621-414 1799 0 1181 414 1801 414 621 1198 621z\"/></defs><use xlink:href=\"#DejaVuSans-Oblique-71\"/><use transform=\"translate(63.477 -16.406) scale(.7)\" xlink:href=\"#DejaVuSans-30\"/></g></g><g clip-path=\"url(#p9ce2988602)\"><g transform=\"translate(36.363 93.463) scale(.1625 -.1625)\"><defs><path id=\"DejaVuSans-31\" transform=\"scale(.015625)\" d=\"m794 531h1031v3560l-1122-225v575l1116 225h631v-4135h1031v-531h-2687v531z\"/></defs><use xlink:href=\"#DejaVuSans-Oblique-71\"/><use transform=\"translate(63.477 -16.406) scale(.7)\" xlink:href=\"#DejaVuSans-31\"/></g></g><g clip-path=\"url(#p9ce2988602)\"><g transform=\"translate(36.363 138.91) scale(.1625 -.1625)\"><defs><path id=\"DejaVuSans-32\" transform=\"scale(.015625)\" d=\"m1228 531h2203v-531h-2962v531q359 372 979 998 621 627 780 809 303 340 423 576 121 236 121 464 0 372-261 606-261 235-680 235-297 0-627-103-329-103-704-313v638q381 153 712 231 332 78 607 78 725 0 1156-363 431-362 431-968 0-288-108-546-107-257-392-607-78-91-497-524-418-433-1181-1211z\"/></defs><use xlink:href=\"#DejaVuSans-Oblique-71\"/><use transform=\"translate(63.477 -16.406) scale(.7)\" xlink:href=\"#DejaVuSans-32\"/></g></g><g clip-path=\"url(#p9ce2988602)\"><g transform=\"translate(36.363 184.36) scale(.1625 -.1625)\"><defs><path id=\"DejaVuSans-33\" transform=\"scale(.015625)\" d=\"m2597 2516q453-97 707-404 255-306 255-756 0-690-475-1069-475-378-1350-378-293 0-604 58t-642 174v609q262-153 574-231 313-78 654-78 593 0 904 234t311 681q0 413-289 645-289 233-804 233h-544v519h569q465 0 712 186t247 536q0 359-255 551-254 193-729 193-260 0-557-57-297-56-653-174v562q360 100 674 150t592 50q719 0 1137-327 419-326 419-882 0-388-222-655t-631-370z\"/></defs><use xlink:href=\"#DejaVuSans-Oblique-71\"/><use transform=\"translate(63.477 -16.406) scale(.7)\" xlink:href=\"#DejaVuSans-33\"/></g></g><g clip-path=\"url(#p9ce2988602)\"><g transform=\"translate(36.363 229.82) scale(.1625 -.1625)\"><defs><path id=\"DejaVuSans-34\" transform=\"scale(.015625)\" d=\"m2419 4116-1594-2491h1594v2491zm-166 550h794v-3041h666v-525h-666v-1100h-628v1100h-2106v609l1940 2957z\"/></defs><use xlink:href=\"#DejaVuSans-Oblique-71\"/><use transform=\"translate(63.477 -16.406) scale(.7)\" xlink:href=\"#DejaVuSans-34\"/></g></g><g clip-path=\"url(#p9ce2988602)\"><g transform=\"translate(36.363 275.27) scale(.1625 -.1625)\"><defs><path id=\"DejaVuSans-35\" transform=\"scale(.015625)\" d=\"m691 4666h2478v-532h-1900v-1143q137 47 274 70 138 23 276 23 781 0 1237-428 457-428 457-1159 0-753-469-1171-469-417-1322-417-294 0-599 50-304 50-629 150v635q281-153 581-228t634-75q541 0 856 284 316 284 316 772 0 487-316 771-315 285-856 285-253 0-505-56-251-56-513-175v2344z\"/></defs><use xlink:href=\"#DejaVuSans-Oblique-71\"/><use transform=\"translate(63.477 -16.406) scale(.7)\" xlink:href=\"#DejaVuSans-35\"/></g></g><g clip-path=\"url(#p9ce2988602)\"><g transform=\"translate(68.036 309.56) scale(.104 -.104)\"><use xlink:href=\"#DejaVuSans-33\"/></g></g><g clip-path=\"url(#p9ce2988602)\"><g transform=\"translate(45.466 320.75) scale(.1625 -.1625)\"><defs><path id=\"DejaVuSans-63\" transform=\"scale(.015625)\" d=\"m3122 3366v-538q-244 135-489 202t-495 67q-560 0-870-355-309-354-309-995t309-996q310-354 870-354 250 0 495 67t489 202v-532q-241-112-499-168-257-57-548-57-791 0-1257 497-465 497-465 1341 0 856 470 1346 471 491 1290 491 265 0 518-55 253-54 491-163z\"/></defs><use xlink:href=\"#DejaVuSans-63\"/></g></g><g clip-path=\"url(#p9ce2988602)\"><g transform=\"translate(83.146 47.148) scale(.13 -.13)\" fill=\"#ffffff\"><defs><path id=\"DejaVuSans-48\" transform=\"scale(.015625)\" d=\"m628 4666h631v-1913h2294v1913h631v-4666h-631v2222h-2294v-2222h-631v4666z\"/></defs><use xlink:href=\"#DejaVuSans-48\"/></g></g><g clip-path=\"url(#p9ce2988602)\"><g transform=\"translate(83.146 92.599) scale(.13 -.13)\" fill=\"#ffffff\"><use xlink:href=\"#DejaVuSans-48\"/></g></g><g clip-path=\"url(#p9ce2988602)\"><g transform=\"translate(83.146 138.05) scale(.13 -.13)\" fill=\"#ffffff\"><use xlink:href=\"#DejaVuSans-48\"/></g></g><g clip-path=\"url(#p9ce2988602)\"><g transform=\"translate(446.75 47.148) scale(.13 -.13)\" fill=\"#ffffff\"><use xlink:href=\"#DejaVuSans-48\"/></g></g><g clip-path=\"url(#p9ce2988602)\"><g transform=\"translate(446.75 92.599) scale(.13 -.13)\" fill=\"#ffffff\"><use xlink:href=\"#DejaVuSans-48\"/></g></g><g clip-path=\"url(#p9ce2988602)\"><g transform=\"translate(446.75 138.05) scale(.13 -.13)\" fill=\"#ffffff\"><use xlink:href=\"#DejaVuSans-48\"/></g></g><g clip-path=\"url(#p9ce2988602)\"><g transform=\"translate(508.46 309.56) scale(.104 -.104)\"><use xlink:href=\"#DejaVuSans-30\"/></g></g><g clip-path=\"url(#p9ce2988602)\"><g transform=\"translate(553.91 309.56) scale(.104 -.104)\"><use xlink:href=\"#DejaVuSans-31\"/></g></g><g clip-path=\"url(#p9ce2988602)\"><g transform=\"translate(599.36 309.56) scale(.104 -.104)\"><use xlink:href=\"#DejaVuSans-32\"/></g></g><defs><clipPath id=\"p9ce2988602\"><rect x=\"7.2\" y=\"7.2\" width=\"610.79\" height=\"336.34\"/></clipPath></defs></svg>"
            ],
            "text/plain": [
              "<Figure size 808.997x445.48 with 1 Axes>"
            ]
          },
          "execution_count": 3,
          "metadata": {
          },
          "output_type": "execute_result"
        }
      ],
      "source": [
        "b = '110'\n",
        "\n",
        "n = len(b)\n",
        "simon_circuit = QuantumCircuit(n*2, n)\n",
        "\n",
        "# Apply Hadamard gates before querying the oracle\n",
        "simon_circuit.h(range(n))    \n",
        "    \n",
        "# Apply barrier for visual separation\n",
        "simon_circuit.barrier()\n",
        "\n",
        "simon_circuit = simon_circuit.compose(simon_oracle(b))\n",
        "\n",
        "# Apply barrier for visual separation\n",
        "simon_circuit.barrier()\n",
        "\n",
        "# Apply Hadamard gates to the input register\n",
        "simon_circuit.h(range(n))\n",
        "\n",
        "# Measure qubits\n",
        "simon_circuit.measure(range(n), range(n))\n",
        "simon_circuit.draw()"
      ]
    },
    {
      "cell_type": "markdown",
      "metadata": {
      },
      "source": [
        "### 3a.シミュレータを使って実験する<a id=\"simulation\"></a>\n",
        "\n",
        "上記の回路をシミュレータ上で実行できます。 "
      ]
    },
    {
      "cell_type": "code",
      "execution_count": 5,
      "metadata": {
      },
      "outputs": [
        {
          "data": {
            "image/svg+xml": [
              "<?xml version=\"1.0\" encoding=\"UTF-8\"?><!DOCTYPE svg  PUBLIC '-//W3C//DTD SVG 1.1//EN'  'http://www.w3.org/Graphics/SVG/1.1/DTD/svg11.dtd'><svg width=\"460.72pt\" height=\"322.95pt\" version=\"1.1\" viewBox=\"0 0 460.72 322.95\" xmlns=\"http://www.w3.org/2000/svg\" xmlns:xlink=\"http://www.w3.org/1999/xlink\"><defs><style type=\"text/css\">*{stroke-linecap:butt;stroke-linejoin:round;}</style></defs><path d=\"m0 322.95h460.72v-322.95h-460.72z\" fill=\"none\"/><path d=\"m62.921 279h390.6v-271.8h-390.6z\" fill=\"#ffffff\"/><defs><path id=\"m02db4badb9\" d=\"m0 0v3.5\" stroke=\"#000000\" stroke-width=\".8\"/></defs><use x=\"106.039432\" y=\"279\" stroke=\"#000000\" stroke-width=\".8\" xlink:href=\"#m02db4badb9\"/><g transform=\"translate(105.1 314.75) rotate(-70) scale(.14 -.14)\"><defs><path id=\"DejaVuSans-30\" transform=\"scale(.015625)\" d=\"m2034 4250q-487 0-733-480-245-479-245-1442 0-959 245-1439 246-480 733-480 491 0 736 480 246 480 246 1439 0 963-246 1442-245 480-736 480zm0 500q785 0 1199-621 414-620 414-1801 0-1178-414-1799-414-620-1199-620-784 0-1198 620-414 621-414 1799 0 1181 414 1801 414 621 1198 621z\"/></defs><use xlink:href=\"#DejaVuSans-30\"/><use x=\"63.623047\" xlink:href=\"#DejaVuSans-30\"/><use x=\"127.246094\" xlink:href=\"#DejaVuSans-30\"/></g><use x=\"207.493977\" y=\"279\" stroke=\"#000000\" stroke-width=\".8\" xlink:href=\"#m02db4badb9\"/><g transform=\"translate(206.55 314.75) rotate(-70) scale(.14 -.14)\"><defs><path id=\"DejaVuSans-31\" transform=\"scale(.015625)\" d=\"m794 531h1031v3560l-1122-225v575l1116 225h631v-4135h1031v-531h-2687v531z\"/></defs><use xlink:href=\"#DejaVuSans-30\"/><use x=\"63.623047\" xlink:href=\"#DejaVuSans-30\"/><use x=\"127.246094\" xlink:href=\"#DejaVuSans-31\"/></g><use x=\"308.948523\" y=\"279\" stroke=\"#000000\" stroke-width=\".8\" xlink:href=\"#m02db4badb9\"/><g transform=\"translate(308.01 314.75) rotate(-70) scale(.14 -.14)\"><use xlink:href=\"#DejaVuSans-31\"/><use x=\"63.623047\" xlink:href=\"#DejaVuSans-31\"/><use x=\"127.246094\" xlink:href=\"#DejaVuSans-30\"/></g><use x=\"410.403068\" y=\"279\" stroke=\"#000000\" stroke-width=\".8\" xlink:href=\"#m02db4badb9\"/><g transform=\"translate(409.46 314.75) rotate(-70) scale(.14 -.14)\"><use xlink:href=\"#DejaVuSans-31\"/><use x=\"63.623047\" xlink:href=\"#DejaVuSans-31\"/><use x=\"127.246094\" xlink:href=\"#DejaVuSans-31\"/></g><path d=\"m62.921 279h390.6\" clip-path=\"url(#p765a113c07)\" fill=\"none\" stroke=\"#b0b0b0\" stroke-dasharray=\"2.96,1.28\" stroke-width=\".8\"/><defs><path id=\"m60f01b7fef\" d=\"m0 0h-3.5\" stroke=\"#000000\" stroke-width=\".8\"/></defs><use x=\"62.92125\" y=\"279\" stroke=\"#000000\" stroke-width=\".8\" xlink:href=\"#m60f01b7fef\"/><g transform=\"translate(24.749 284.32) scale(.14 -.14)\"><defs><path id=\"DejaVuSans-2e\" transform=\"scale(.015625)\" d=\"m684 794h660v-794h-660v794z\"/></defs><use xlink:href=\"#DejaVuSans-30\"/><use x=\"63.623047\" xlink:href=\"#DejaVuSans-2e\"/><use x=\"95.410156\" xlink:href=\"#DejaVuSans-30\"/><use x=\"159.033203\" xlink:href=\"#DejaVuSans-30\"/></g><path d=\"m62.921 215.67h390.6\" clip-path=\"url(#p765a113c07)\" fill=\"none\" stroke=\"#b0b0b0\" stroke-dasharray=\"2.96,1.28\" stroke-width=\".8\"/><use x=\"62.92125\" y=\"215.672765\" stroke=\"#000000\" stroke-width=\".8\" xlink:href=\"#m60f01b7fef\"/><g transform=\"translate(24.749 220.99) scale(.14 -.14)\"><defs><path id=\"DejaVuSans-38\" transform=\"scale(.015625)\" d=\"m2034 2216q-450 0-708-241-257-241-257-662 0-422 257-663 258-241 708-241t709 242q260 243 260 662 0 421-258 662-257 241-711 241zm-631 268q-406 100-633 378-226 279-226 679 0 559 398 884 399 325 1092 325 697 0 1094-325t397-884q0-400-227-679-226-278-629-378 456-106 710-416 255-309 255-755 0-679-414-1042-414-362-1186-362-771 0-1186 362-414 363-414 1042 0 446 256 755 257 310 713 416zm-231 997q0-362 226-565 227-203 636-203 407 0 636 203 230 203 230 565 0 363-230 566-229 203-636 203-409 0-636-203-226-203-226-566z\"/></defs><use xlink:href=\"#DejaVuSans-30\"/><use x=\"63.623047\" xlink:href=\"#DejaVuSans-2e\"/><use x=\"95.410156\" xlink:href=\"#DejaVuSans-30\"/><use x=\"159.033203\" xlink:href=\"#DejaVuSans-38\"/></g><path d=\"m62.921 152.35h390.6\" clip-path=\"url(#p765a113c07)\" fill=\"none\" stroke=\"#b0b0b0\" stroke-dasharray=\"2.96,1.28\" stroke-width=\".8\"/><use x=\"62.92125\" y=\"152.345529\" stroke=\"#000000\" stroke-width=\".8\" xlink:href=\"#m60f01b7fef\"/><g transform=\"translate(24.749 157.66) scale(.14 -.14)\"><defs><path id=\"DejaVuSans-36\" transform=\"scale(.015625)\" d=\"m2113 2584q-425 0-674-291-248-290-248-796 0-503 248-796 249-292 674-292t673 292q248 293 248 796 0 506-248 796-248 291-673 291zm1253 1979v-575q-238 112-480 171-242 60-480 60-625 0-955-422-329-422-376-1275 184 272 462 417 279 145 613 145 703 0 1111-427 408-426 408-1160 0-719-425-1154-425-434-1131-434-810 0-1238 620-428 621-428 1799 0 1106 525 1764t1409 658q238 0 480-47t505-140z\"/></defs><use xlink:href=\"#DejaVuSans-30\"/><use x=\"63.623047\" xlink:href=\"#DejaVuSans-2e\"/><use x=\"95.410156\" xlink:href=\"#DejaVuSans-31\"/><use x=\"159.033203\" xlink:href=\"#DejaVuSans-36\"/></g><path d=\"m62.921 89.018h390.6\" clip-path=\"url(#p765a113c07)\" fill=\"none\" stroke=\"#b0b0b0\" stroke-dasharray=\"2.96,1.28\" stroke-width=\".8\"/><use x=\"62.92125\" y=\"89.018294\" stroke=\"#000000\" stroke-width=\".8\" xlink:href=\"#m60f01b7fef\"/><g transform=\"translate(24.749 94.337) scale(.14 -.14)\"><defs><path id=\"DejaVuSans-32\" transform=\"scale(.015625)\" d=\"m1228 531h2203v-531h-2962v531q359 372 979 998 621 627 780 809 303 340 423 576 121 236 121 464 0 372-261 606-261 235-680 235-297 0-627-103-329-103-704-313v638q381 153 712 231 332 78 607 78 725 0 1156-363 431-362 431-968 0-288-108-546-107-257-392-607-78-91-497-524-418-433-1181-1211z\"/><path id=\"DejaVuSans-34\" transform=\"scale(.015625)\" d=\"m2419 4116-1594-2491h1594v2491zm-166 550h794v-3041h666v-525h-666v-1100h-628v1100h-2106v609l1940 2957z\"/></defs><use xlink:href=\"#DejaVuSans-30\"/><use x=\"63.623047\" xlink:href=\"#DejaVuSans-2e\"/><use x=\"95.410156\" xlink:href=\"#DejaVuSans-32\"/><use x=\"159.033203\" xlink:href=\"#DejaVuSans-34\"/></g><path d=\"m62.921 25.691h390.6\" clip-path=\"url(#p765a113c07)\" fill=\"none\" stroke=\"#b0b0b0\" stroke-dasharray=\"2.96,1.28\" stroke-width=\".8\"/><use x=\"62.92125\" y=\"25.691058\" stroke=\"#000000\" stroke-width=\".8\" xlink:href=\"#m60f01b7fef\"/><g transform=\"translate(24.749 31.01) scale(.14 -.14)\"><defs><path id=\"DejaVuSans-33\" transform=\"scale(.015625)\" d=\"m2597 2516q453-97 707-404 255-306 255-756 0-690-475-1069-475-378-1350-378-293 0-604 58t-642 174v609q262-153 574-231 313-78 654-78 593 0 904 234t311 681q0 413-289 645-289 233-804 233h-544v519h569q465 0 712 186t247 536q0 359-255 551-254 193-729 193-260 0-557-57-297-56-653-174v562q360 100 674 150t592 50q719 0 1137-327 419-326 419-882 0-388-222-655t-631-370z\"/></defs><use xlink:href=\"#DejaVuSans-30\"/><use x=\"63.623047\" xlink:href=\"#DejaVuSans-2e\"/><use x=\"95.410156\" xlink:href=\"#DejaVuSans-33\"/><use x=\"159.033203\" xlink:href=\"#DejaVuSans-32\"/></g><g transform=\"translate(17.838 185.86) rotate(-90) scale(.14 -.14)\"><defs><path id=\"DejaVuSans-50\" transform=\"scale(.015625)\" d=\"m1259 4147v-1753h794q441 0 681 228 241 228 241 650 0 419-241 647-240 228-681 228h-794zm-631 519h1425q785 0 1186-355 402-355 402-1039 0-691-402-1044-401-353-1186-353h-794v-1875h-631v4666z\"/><path id=\"DejaVuSans-72\" transform=\"scale(.015625)\" d=\"m2631 2963q-97 56-211 82-114 27-251 27-488 0-749-317t-261-911v-1844h-578v3500h578v-544q182 319 472 473 291 155 707 155 59 0 131-8 72-7 159-23l3-590z\"/><path id=\"DejaVuSans-6f\" transform=\"scale(.015625)\" d=\"m1959 3097q-462 0-731-361t-269-989 267-989q268-361 733-361 460 0 728 362 269 363 269 988 0 622-269 986-268 364-728 364zm0 487q750 0 1178-488 429-487 429-1349 0-859-429-1349-428-489-1178-489-753 0-1180 489-426 490-426 1349 0 862 426 1349 427 488 1180 488z\"/><path id=\"DejaVuSans-62\" transform=\"scale(.015625)\" d=\"m3116 1747q0 634-261 995t-717 361q-457 0-718-361t-261-995 261-995 718-361q456 0 717 361t261 995zm-1957 1222q182 312 458 463 277 152 661 152 638 0 1036-506 399-506 399-1331t-399-1332q-398-506-1036-506-384 0-661 152-276 152-458 464v-525h-578v4863h578v-1894z\"/><path id=\"DejaVuSans-61\" transform=\"scale(.015625)\" d=\"m2194 1759q-697 0-966-159t-269-544q0-306 202-486 202-179 548-179 479 0 768 339t289 901v128h-572zm1147 238v-1997h-575v531q-197-318-491-470t-719-152q-537 0-855 302-317 302-317 808 0 590 395 890 396 300 1180 300h807v57q0 397-261 614t-733 217q-300 0-585-72-284-72-546-216v532q315 122 612 182 297 61 578 61 760 0 1135-394 375-393 375-1193z\"/><path id=\"DejaVuSans-69\" transform=\"scale(.015625)\" d=\"m603 3500h575v-3500h-575v3500zm0 1363h575v-729h-575v729z\"/><path id=\"DejaVuSans-6c\" transform=\"scale(.015625)\" d=\"m603 4863h575v-4863h-575v4863z\"/><path id=\"DejaVuSans-74\" transform=\"scale(.015625)\" d=\"m1172 4494v-994h1184v-447h-1184v-1900q0-428 117-550t477-122h590v-481h-590q-666 0-919 248-253 249-253 905v1900h-422v447h422v994h578z\"/><path id=\"DejaVuSans-65\" transform=\"scale(.015625)\" d=\"m3597 1894v-281h-2644q38-594 358-905t892-311q331 0 642 81t618 244v-544q-310-131-635-200t-659-69q-838 0-1327 487-489 488-489 1320 0 859 464 1363 464 505 1252 505 706 0 1117-455 411-454 411-1235zm-575 169q-6 471-264 752-258 282-683 282-481 0-770-272t-333-766l2050 4z\"/><path id=\"DejaVuSans-73\" transform=\"scale(.015625)\" d=\"m2834 3397v-544q-243 125-506 187-262 63-544 63-428 0-642-131t-214-394q0-200 153-314t616-217l197-44q612-131 870-370t258-667q0-488-386-773-386-284-1061-284-281 0-586 55t-642 164v594q319-166 628-249 309-82 613-82 406 0 624 139 219 139 219 392 0 234-158 359-157 125-692 241l-200 47q-534 112-772 345-237 233-237 639 0 494 350 762 350 269 994 269 318 0 599-47 282-46 519-140z\"/></defs><use xlink:href=\"#DejaVuSans-50\"/><use x=\"58.552734\" xlink:href=\"#DejaVuSans-72\"/><use x=\"97.416016\" xlink:href=\"#DejaVuSans-6f\"/><use x=\"158.597656\" xlink:href=\"#DejaVuSans-62\"/><use x=\"222.074219\" xlink:href=\"#DejaVuSans-61\"/><use x=\"283.353516\" xlink:href=\"#DejaVuSans-62\"/><use x=\"346.830078\" xlink:href=\"#DejaVuSans-69\"/><use x=\"374.613281\" xlink:href=\"#DejaVuSans-6c\"/><use x=\"402.396484\" xlink:href=\"#DejaVuSans-69\"/><use x=\"430.179688\" xlink:href=\"#DejaVuSans-74\"/><use x=\"469.388672\" xlink:href=\"#DejaVuSans-69\"/><use x=\"497.171875\" xlink:href=\"#DejaVuSans-65\"/><use x=\"558.695312\" xlink:href=\"#DejaVuSans-73\"/></g><path d=\"m80.676 279h50.727v-202.54h-50.727z\" clip-path=\"url(#p765a113c07)\" fill=\"#648fff\"/><path d=\"m182.13 279h50.727v-226.5h-50.727z\" clip-path=\"url(#p765a113c07)\" fill=\"#648fff\"/><path d=\"m283.58 279h50.727v-181.66h-50.727z\" clip-path=\"url(#p765a113c07)\" fill=\"#648fff\"/><path d=\"m385.04 279h50.727v-180.89h-50.727z\" clip-path=\"url(#p765a113c07)\" fill=\"#648fff\"/><path d=\"m62.921 279v-271.8\" fill=\"none\" stroke=\"#000000\" stroke-linecap=\"square\" stroke-width=\".8\"/><path d=\"m453.52 279v-271.8\" fill=\"none\" stroke=\"#000000\" stroke-linecap=\"square\" stroke-width=\".8\"/><path d=\"m62.921 279h390.6\" fill=\"none\" stroke=\"#000000\" stroke-linecap=\"square\" stroke-width=\".8\"/><path d=\"m62.921 7.2h390.6\" fill=\"none\" stroke=\"#000000\" stroke-linecap=\"square\" stroke-width=\".8\"/><g transform=\"translate(91.725 64.258) scale(.1 -.1)\"><defs><path id=\"DejaVuSans-35\" transform=\"scale(.015625)\" d=\"m691 4666h2478v-532h-1900v-1143q137 47 274 70 138 23 276 23 781 0 1237-428 457-428 457-1159 0-753-469-1171-469-417-1322-417-294 0-599 50-304 50-629 150v635q281-153 581-228t634-75q541 0 856 284 316 284 316 772 0 487-316 771-315 285-856 285-253 0-505-56-251-56-513-175v2344z\"/></defs><use xlink:href=\"#DejaVuSans-30\"/><use x=\"63.623047\" xlink:href=\"#DejaVuSans-2e\"/><use x=\"95.410156\" xlink:href=\"#DejaVuSans-32\"/><use x=\"159.033203\" xlink:href=\"#DejaVuSans-35\"/><use x=\"222.65625\" xlink:href=\"#DejaVuSans-36\"/></g><g transform=\"translate(193.18 39.095) scale(.1 -.1)\"><use xlink:href=\"#DejaVuSans-30\"/><use x=\"63.623047\" xlink:href=\"#DejaVuSans-2e\"/><use x=\"95.410156\" xlink:href=\"#DejaVuSans-32\"/><use x=\"159.033203\" xlink:href=\"#DejaVuSans-38\"/><use x=\"222.65625\" xlink:href=\"#DejaVuSans-36\"/></g><g transform=\"translate(294.63 86.173) scale(.1 -.1)\"><defs><path id=\"DejaVuSans-39\" transform=\"scale(.015625)\" d=\"m703 97v575q238-113 481-172 244-59 479-59 625 0 954 420 330 420 377 1277-181-269-460-413-278-144-615-144-700 0-1108 423-408 424-408 1159 0 718 425 1152 425 435 1131 435 810 0 1236-621 427-620 427-1801 0-1103-524-1761-523-658-1407-658-238 0-482 47-243 47-506 141zm1256 1978q425 0 673 290 249 291 249 798 0 503-249 795-248 292-673 292t-673-292-248-795q0-507 248-798 248-290 673-290z\"/></defs><use xlink:href=\"#DejaVuSans-30\"/><use x=\"63.623047\" xlink:href=\"#DejaVuSans-2e\"/><use x=\"95.410156\" xlink:href=\"#DejaVuSans-32\"/><use x=\"159.033203\" xlink:href=\"#DejaVuSans-32\"/><use x=\"222.65625\" xlink:href=\"#DejaVuSans-39\"/></g><g transform=\"translate(396.09 86.985) scale(.1 -.1)\"><use xlink:href=\"#DejaVuSans-30\"/><use x=\"63.623047\" xlink:href=\"#DejaVuSans-2e\"/><use x=\"95.410156\" xlink:href=\"#DejaVuSans-32\"/><use x=\"159.033203\" xlink:href=\"#DejaVuSans-32\"/><use x=\"222.65625\" xlink:href=\"#DejaVuSans-39\"/></g><defs><clipPath id=\"p765a113c07\"><rect x=\"62.921\" y=\"7.2\" width=\"390.6\" height=\"271.8\"/></clipPath></defs></svg>"
            ],
            "text/plain": [
              "<Figure size 504x360 with 1 Axes>"
            ]
          },
          "execution_count": 5,
          "metadata": {
          },
          "output_type": "execute_result"
        }
      ],
      "source": [
        "# use local simulator\n",
        "aer_sim = Aer.get_backend('aer_simulator')\n",
        "results = aer_sim.run(simon_circuit).result()\n",
        "counts = results.get_counts()\n",
        "plot_histogram(counts)"
      ]
    },
    {
      "cell_type": "markdown",
      "metadata": {
      },
      "source": [
        "$b$ はすでにわかっているので、これらの結果が $b\\cdot z = 0 \\pmod{2}$ を満たしていることを確認できます。"
      ]
    },
    {
      "cell_type": "code",
      "execution_count": 6,
      "metadata": {
      },
      "outputs": [
        {
          "name": "stdout",
          "output_type": "stream",
          "text": [
            "110.111 = 0 (mod 2)\n",
            "110.001 = 0 (mod 2)\n",
            "110.110 = 0 (mod 2)\n",
            "110.000 = 0 (mod 2)\n"
          ]
        }
      ],
      "source": [
        "# Calculate the dot product of the results\n",
        "def bdotz(b, z):\n",
        "    accum = 0\n",
        "    for i in range(len(b)):\n",
        "        accum += int(b[i]) * int(z[i])\n",
        "    return (accum % 2)\n",
        "\n",
        "for z in counts:\n",
        "    print( '{}.{} = {} (mod 2)'.format(b, z, bdotz(b,z)) )"
      ]
    },
    {
      "cell_type": "markdown",
      "metadata": {
      },
      "source": [
        "これらの結果を使用して、この一連の連立方程式を解くことによって $b = 110$ の値を回復できます。たとえば、最初に`001`を測定したとすると、次のようになります。\n",
        "\n",
        "$$\n",
        "\\require{cancel}\n",
        "\\begin{aligned}\n",
        "b \\cdot 001 &amp;= 0 \\\\\n",
        "(b_2 \\cdot 0) + (b_1 \\cdot 0) + (b_0 \\cdot 1) &amp; = 0 \\\\\n",
        "(\\cancel{b_2 \\cdot 0}) + (\\cancel{b_1 \\cdot 0}) + (b_0 \\cdot 1) &amp; = 0 \\\\\n",
        "b_0 &amp; = 0\\\\\n",
        "\\end{aligned}\n",
        "$$\n",
        "\n",
        "次に`111`を測定すると、次のようになります。\n",
        "\n",
        "$$\n",
        "\\require{cancel}\n",
        "\\begin{aligned}\n",
        "b \\cdot 111 &amp;= 0 \\\\\n",
        "(b_2 \\cdot 1) + (b_1 \\cdot 1) + (\\cancel{0 \\cdot 1}) &amp; = 0 \\\\\n",
        "(b_2 \\cdot 1) + (b_1 \\cdot 1) &amp; = 0 \\\\\n",
        "\\end{aligned}\n",
        "$$\n",
        "\n",
        "これにより、次のいずれかがわかります。\n",
        "\n",
        "$$ b_2 = b_1 = 0, \\quad b = 000 $$\n",
        "\n",
        "また\n",
        "\n",
        "$$ b_2 = b_1 = 1, \\quad b = 110 $$\n",
        "\n",
        "このうち $b = 110$ は連立方程式の自明ではない解です。これらの問題は一般に、 $O(n^3)$ の実行時間を持つ[ガウス消去法](https://mathworld.wolfram.com/GaussianElimination.html)を使用して解決できます。"
      ]
    },
    {
      "cell_type": "markdown",
      "metadata": {
      },
      "source": [
        "### 3b.実際のデバイスを使って実験する<a id=\"device\"></a>\n",
        "\n",
        "[セクション 3a](#simulation)の回路は $2n = 6$ 量子ビットを使用しますが、この記事の執筆時点では、多くの IBM Quantum デバイスには 5 量子ビットしかありません。同じコードを実行しますが、代わりにセクション 2 の例のように $b=11$ を使用し、必要な量子ビットは 4 つだけです。"
      ]
    },
    {
      "cell_type": "code",
      "execution_count": 7,
      "metadata": {
      },
      "outputs": [
        {
          "data": {
            "image/svg+xml": [
              "<?xml version=\"1.0\" encoding=\"UTF-8\"?><!DOCTYPE svg  PUBLIC '-//W3C//DTD SVG 1.1//EN'  'http://www.w3.org/Graphics/SVG/1.1/DTD/svg11.dtd'><svg width=\"443.39pt\" height=\"259.84pt\" version=\"1.1\" viewBox=\"0 0 443.39 259.84\" xmlns=\"http://www.w3.org/2000/svg\" xmlns:xlink=\"http://www.w3.org/1999/xlink\"><defs><style type=\"text/css\">*{stroke-linecap:butt;stroke-linejoin:round;}</style></defs><path d=\"m0 259.84h443.39v-259.84h-443.39z\" fill=\"#ffffff\"/><path d=\"m354.83 215.02h11.817l-5.9086 8.5221z\" clip-path=\"url(#p0e6c38ce68)\" fill=\"#778899\"/><path d=\"m400.28 215.02h11.817l-5.9086 8.5221z\" clip-path=\"url(#p0e6c38ce68)\" fill=\"#778899\"/><path d=\"m63.491 43.561h368.15\" clip-path=\"url(#p0e6c38ce68)\" fill=\"none\" stroke=\"#000000\" stroke-linecap=\"square\" stroke-width=\"2\"/><path d=\"m63.491 89.012h368.15\" clip-path=\"url(#p0e6c38ce68)\" fill=\"none\" stroke=\"#000000\" stroke-linecap=\"square\" stroke-width=\"2\"/><path d=\"m63.491 134.46h368.15\" clip-path=\"url(#p0e6c38ce68)\" fill=\"none\" stroke=\"#000000\" stroke-linecap=\"square\" stroke-width=\"2\"/><path d=\"m63.491 179.91h368.15\" clip-path=\"url(#p0e6c38ce68)\" fill=\"none\" stroke=\"#000000\" stroke-linecap=\"square\" stroke-width=\"2\"/><path d=\"m63.491 223.89h368.15\" clip-path=\"url(#p0e6c38ce68)\" fill=\"none\" stroke=\"#778899\" stroke-linecap=\"square\" stroke-width=\"2\"/><path d=\"m63.491 226.84h368.15\" clip-path=\"url(#p0e6c38ce68)\" fill=\"none\" stroke=\"#778899\" stroke-linecap=\"square\" stroke-width=\"2\"/><path d=\"m72.581 229.91 4.5451-9.0902\" clip-path=\"url(#p0e6c38ce68)\" fill=\"none\" stroke=\"#778899\" stroke-linecap=\"square\" stroke-width=\"1.5\"/><path d=\"m133.49 134.46v-90.902\" clip-path=\"url(#p0e6c38ce68)\" fill=\"none\" stroke=\"#1192e8\" stroke-linecap=\"square\" stroke-width=\"2\"/><path d=\"m178.94 179.91v-90.902\" clip-path=\"url(#p0e6c38ce68)\" fill=\"none\" stroke=\"#1192e8\" stroke-linecap=\"square\" stroke-width=\"2\"/><path d=\"m224.39 134.46v-90.902\" clip-path=\"url(#p0e6c38ce68)\" fill=\"none\" stroke=\"#1192e8\" stroke-linecap=\"square\" stroke-width=\"2\"/><path d=\"m315.29 179.91v-136.35\" clip-path=\"url(#p0e6c38ce68)\" fill=\"none\" stroke=\"#1192e8\" stroke-linecap=\"square\" stroke-width=\"2\"/><path d=\"m362.22 89.012v126.01\" clip-path=\"url(#p0e6c38ce68)\" fill=\"none\" stroke=\"#778899\" stroke-linecap=\"square\" stroke-width=\"2\"/><path d=\"m359.26 89.012v126.01\" clip-path=\"url(#p0e6c38ce68)\" fill=\"none\" stroke=\"#778899\" stroke-linecap=\"square\" stroke-width=\"2\"/><path d=\"m407.67 43.561v171.46\" clip-path=\"url(#p0e6c38ce68)\" fill=\"none\" stroke=\"#778899\" stroke-linecap=\"square\" stroke-width=\"2\"/><path d=\"m404.71 43.561v171.46\" clip-path=\"url(#p0e6c38ce68)\" fill=\"none\" stroke=\"#778899\" stroke-linecap=\"square\" stroke-width=\"2\"/><path d=\"m73.263 58.332h29.543v-29.543h-29.543z\" clip-path=\"url(#p0e6c38ce68)\" fill=\"#1192e8\" stroke=\"#1192e8\" stroke-width=\"1.5\"/><path d=\"m73.263 103.78h29.543v-29.543h-29.543z\" clip-path=\"url(#p0e6c38ce68)\" fill=\"#1192e8\" stroke=\"#1192e8\" stroke-width=\"1.5\"/><path d=\"m133.49 47.992c1.1752 0 2.3025-0.46693 3.1335-1.2979 0.83102-0.83102 1.2979-1.9583 1.2979-3.1335 0-1.1752-0.46693-2.3025-1.2979-3.1335-0.83102-0.83102-1.9583-1.2979-3.1335-1.2979-1.1752 0-2.3025 0.46693-3.1335 1.2979-0.83102 0.83102-1.2979 1.9583-1.2979 3.1335 0 1.1752 0.46693 2.3025 1.2979 3.1335 0.83102 0.83102 1.9583 1.2979 3.1335 1.2979z\" clip-path=\"url(#p0e6c38ce68)\" fill=\"#1192e8\" stroke=\"#1192e8\" stroke-width=\"1.5\"/><path d=\"m133.49 144.8c2.7422 0 5.3725-1.0895 7.3116-3.0285 1.939-1.939 3.0285-4.5693 3.0285-7.3116 0-2.7422-1.0895-5.3725-3.0285-7.3116-1.939-1.939-4.5693-3.0285-7.3116-3.0285-2.7422 0-5.3725 1.0895-7.3116 3.0285-1.939 1.939-3.0285 4.5693-3.0285 7.3116 0 2.7422 1.0895 5.3725 3.0285 7.3116 1.939 1.939 4.5693 3.0285 7.3116 3.0285z\" clip-path=\"url(#p0e6c38ce68)\" fill=\"#1192e8\" stroke=\"#1192e8\" stroke-width=\"2\"/><path d=\"m178.94 93.443c1.1752 0 2.3025-0.46693 3.1335-1.2979 0.83102-0.83102 1.2979-1.9583 1.2979-3.1335s-0.46693-2.3025-1.2979-3.1335c-0.83102-0.83102-1.9583-1.2979-3.1335-1.2979s-2.3025 0.46693-3.1335 1.2979c-0.83102 0.83102-1.2979 1.9583-1.2979 3.1335s0.46693 2.3025 1.2979 3.1335c0.83102 0.83102 1.9583 1.2979 3.1335 1.2979z\" clip-path=\"url(#p0e6c38ce68)\" fill=\"#1192e8\" stroke=\"#1192e8\" stroke-width=\"1.5\"/><path d=\"m178.94 190.25c2.7422 0 5.3725-1.0895 7.3116-3.0285 1.939-1.939 3.0285-4.5693 3.0285-7.3116s-1.0895-5.3725-3.0285-7.3116c-1.939-1.939-4.5693-3.0285-7.3116-3.0285s-5.3725 1.0895-7.3116 3.0285c-1.939 1.939-3.0285 4.5693-3.0285 7.3116s1.0895 5.3725 3.0285 7.3116c1.939 1.939 4.5693 3.0285 7.3116 3.0285z\" clip-path=\"url(#p0e6c38ce68)\" fill=\"#1192e8\" stroke=\"#1192e8\" stroke-width=\"2\"/><path d=\"m224.39 47.992c1.1752 0 2.3025-0.46693 3.1335-1.2979 0.83102-0.83102 1.2979-1.9583 1.2979-3.1335 0-1.1752-0.46693-2.3025-1.2979-3.1335-0.83102-0.83102-1.9583-1.2979-3.1335-1.2979-1.1752 0-2.3025 0.46693-3.1335 1.2979-0.83102 0.83102-1.2979 1.9583-1.2979 3.1335 0 1.1752 0.46693 2.3025 1.2979 3.1335 0.83102 0.83102 1.9583 1.2979 3.1335 1.2979z\" clip-path=\"url(#p0e6c38ce68)\" fill=\"#1192e8\" stroke=\"#1192e8\" stroke-width=\"1.5\"/><path d=\"m224.39 144.8c2.7422 0 5.3725-1.0895 7.3116-3.0285 1.939-1.939 3.0285-4.5693 3.0285-7.3116 0-2.7422-1.0895-5.3725-3.0285-7.3116-1.939-1.939-4.5693-3.0285-7.3116-3.0285-2.7422 0-5.3725 1.0895-7.3116 3.0285-1.939 1.939-3.0285 4.5693-3.0285 7.3116 0 2.7422 1.0895 5.3725 3.0285 7.3116 1.939 1.939 4.5693 3.0285 7.3116 3.0285z\" clip-path=\"url(#p0e6c38ce68)\" fill=\"#1192e8\" stroke=\"#1192e8\" stroke-width=\"2\"/><path d=\"m255.07 103.78h29.543v-29.543h-29.543z\" clip-path=\"url(#p0e6c38ce68)\" fill=\"#1192e8\" stroke=\"#1192e8\" stroke-width=\"1.5\"/><path d=\"m315.29 47.992c1.1752 0 2.3025-0.46693 3.1335-1.2979 0.83102-0.83102 1.2979-1.9583 1.2979-3.1335 0-1.1752-0.46693-2.3025-1.2979-3.1335-0.83102-0.83102-1.9583-1.2979-3.1335-1.2979s-2.3025 0.46693-3.1335 1.2979c-0.83102 0.83102-1.2979 1.9583-1.2979 3.1335 0 1.1752 0.46693 2.3025 1.2979 3.1335 0.83102 0.83102 1.9583 1.2979 3.1335 1.2979z\" clip-path=\"url(#p0e6c38ce68)\" fill=\"#1192e8\" stroke=\"#1192e8\" stroke-width=\"1.5\"/><path d=\"m315.29 190.25c2.7422 0 5.3725-1.0895 7.3116-3.0285 1.939-1.939 3.0285-4.5693 3.0285-7.3116s-1.0895-5.3725-3.0285-7.3116c-1.939-1.939-4.5693-3.0285-7.3116-3.0285s-5.3725 1.0895-7.3116 3.0285c-1.939 1.939-3.0285 4.5693-3.0285 7.3116s1.0895 5.3725 3.0285 7.3116c1.939 1.939 4.5693 3.0285 7.3116 3.0285z\" clip-path=\"url(#p0e6c38ce68)\" fill=\"#1192e8\" stroke=\"#1192e8\" stroke-width=\"2\"/><path d=\"m345.97 103.78h29.543v-29.543h-29.543z\" clip-path=\"url(#p0e6c38ce68)\" fill=\"#121619\" stroke=\"#121619\" stroke-width=\"1.5\"/><path d=\"m371.08 93.443c0-2.7413-1.0901-5.3732-3.0285-7.3116s-4.5702-3.0285-7.3116-3.0285c-2.7413 0-5.3732 1.0901-7.3116 3.0285s-3.0285 4.5702-3.0285 7.3116\" clip-path=\"url(#p0e6c38ce68)\" fill=\"none\" stroke=\"#ffffff\" stroke-width=\"2\"/><path d=\"m345.97 58.332h29.543v-29.543h-29.543z\" clip-path=\"url(#p0e6c38ce68)\" fill=\"#1192e8\" stroke=\"#1192e8\" stroke-width=\"1.5\"/><path d=\"m391.42 58.332h29.543v-29.543h-29.543z\" clip-path=\"url(#p0e6c38ce68)\" fill=\"#121619\" stroke=\"#121619\" stroke-width=\"1.5\"/><path d=\"m416.53 47.992c0-2.7413-1.0901-5.3732-3.0285-7.3116-1.9384-1.9384-4.5702-3.0285-7.3116-3.0285s-5.3732 1.0901-7.3116 3.0285c-1.9384 1.9384-3.0285 4.5702-3.0285 7.3116\" clip-path=\"url(#p0e6c38ce68)\" fill=\"none\" stroke=\"#ffffff\" stroke-width=\"2\"/><path d=\"m360.74 93.443 10.34-10.34\" clip-path=\"url(#p0e6c38ce68)\" fill=\"none\" stroke=\"#ffffff\" stroke-linecap=\"square\" stroke-width=\"2\"/><path d=\"m406.19 47.992 10.34-10.34\" clip-path=\"url(#p0e6c38ce68)\" fill=\"none\" stroke=\"#ffffff\" stroke-linecap=\"square\" stroke-width=\"2\"/><path d=\"m133.49 140.37v-11.817\" clip-path=\"url(#p0e6c38ce68)\" fill=\"none\" stroke=\"#ffffff\" stroke-linecap=\"square\" stroke-width=\"2\"/><path d=\"m127.58 134.46h11.817\" clip-path=\"url(#p0e6c38ce68)\" fill=\"none\" stroke=\"#ffffff\" stroke-linecap=\"square\" stroke-width=\"2\"/><path d=\"m178.94 185.82v-11.817\" clip-path=\"url(#p0e6c38ce68)\" fill=\"none\" stroke=\"#ffffff\" stroke-linecap=\"square\" stroke-width=\"2\"/><path d=\"m173.03 179.91h11.817\" clip-path=\"url(#p0e6c38ce68)\" fill=\"none\" stroke=\"#ffffff\" stroke-linecap=\"square\" stroke-width=\"2\"/><path d=\"m224.39 140.37v-11.817\" clip-path=\"url(#p0e6c38ce68)\" fill=\"none\" stroke=\"#ffffff\" stroke-linecap=\"square\" stroke-width=\"2\"/><path d=\"m218.48 134.46h11.817\" clip-path=\"url(#p0e6c38ce68)\" fill=\"none\" stroke=\"#ffffff\" stroke-linecap=\"square\" stroke-width=\"2\"/><path d=\"m315.29 185.82v-11.817\" clip-path=\"url(#p0e6c38ce68)\" fill=\"none\" stroke=\"#ffffff\" stroke-linecap=\"square\" stroke-width=\"2\"/><path d=\"m309.38 179.91h11.817\" clip-path=\"url(#p0e6c38ce68)\" fill=\"none\" stroke=\"#ffffff\" stroke-linecap=\"square\" stroke-width=\"2\"/><g clip-path=\"url(#p0e6c38ce68)\"><g transform=\"translate(36.363 48.012) scale(.1625 -.1625)\"><defs><path id=\"DejaVuSans-Oblique-71\" transform=\"scale(.015625)\" d=\"m2669 525q-231-303-546-460-314-156-695-156-531 0-833 358-301 358-301 986 0 506 186 978t533 847q225 244 517 375t614 131q387 0 637-153t363-462l100 525h578l-934-4813h-579l360 1844zm-1778 813q0-463 193-705 194-242 560-242 544 0 928 520t384 1264q0 450-199 689-198 239-569 239-272 0-504-127-231-126-403-370-181-256-286-600-104-343-104-668z\"/><path id=\"DejaVuSans-30\" transform=\"scale(.015625)\" d=\"m2034 4250q-487 0-733-480-245-479-245-1442 0-959 245-1439 246-480 733-480 491 0 736 480 246 480 246 1439 0 963-246 1442-245 480-736 480zm0 500q785 0 1199-621 414-620 414-1801 0-1178-414-1799-414-620-1199-620-784 0-1198 620-414 621-414 1799 0 1181 414 1801 414 621 1198 621z\"/></defs><use xlink:href=\"#DejaVuSans-Oblique-71\"/><use transform=\"translate(63.477 -16.406) scale(.7)\" xlink:href=\"#DejaVuSans-30\"/></g></g><g clip-path=\"url(#p0e6c38ce68)\"><g transform=\"translate(36.363 93.463) scale(.1625 -.1625)\"><defs><path id=\"DejaVuSans-31\" transform=\"scale(.015625)\" d=\"m794 531h1031v3560l-1122-225v575l1116 225h631v-4135h1031v-531h-2687v531z\"/></defs><use xlink:href=\"#DejaVuSans-Oblique-71\"/><use transform=\"translate(63.477 -16.406) scale(.7)\" xlink:href=\"#DejaVuSans-31\"/></g></g><g clip-path=\"url(#p0e6c38ce68)\"><g transform=\"translate(36.363 138.91) scale(.1625 -.1625)\"><defs><path id=\"DejaVuSans-32\" transform=\"scale(.015625)\" d=\"m1228 531h2203v-531h-2962v531q359 372 979 998 621 627 780 809 303 340 423 576 121 236 121 464 0 372-261 606-261 235-680 235-297 0-627-103-329-103-704-313v638q381 153 712 231 332 78 607 78 725 0 1156-363 431-362 431-968 0-288-108-546-107-257-392-607-78-91-497-524-418-433-1181-1211z\"/></defs><use xlink:href=\"#DejaVuSans-Oblique-71\"/><use transform=\"translate(63.477 -16.406) scale(.7)\" xlink:href=\"#DejaVuSans-32\"/></g></g><g clip-path=\"url(#p0e6c38ce68)\"><g transform=\"translate(36.363 184.36) scale(.1625 -.1625)\"><defs><path id=\"DejaVuSans-33\" transform=\"scale(.015625)\" d=\"m2597 2516q453-97 707-404 255-306 255-756 0-690-475-1069-475-378-1350-378-293 0-604 58t-642 174v609q262-153 574-231 313-78 654-78 593 0 904 234t311 681q0 413-289 645-289 233-804 233h-544v519h569q465 0 712 186t247 536q0 359-255 551-254 193-729 193-260 0-557-57-297-56-653-174v562q360 100 674 150t592 50q719 0 1137-327 419-326 419-882 0-388-222-655t-631-370z\"/></defs><use xlink:href=\"#DejaVuSans-Oblique-71\"/><use transform=\"translate(63.477 -16.406) scale(.7)\" xlink:href=\"#DejaVuSans-33\"/></g></g><g clip-path=\"url(#p0e6c38ce68)\"><g transform=\"translate(68.036 218.66) scale(.104 -.104)\"><use xlink:href=\"#DejaVuSans-32\"/></g></g><g clip-path=\"url(#p0e6c38ce68)\"><g transform=\"translate(45.466 229.85) scale(.1625 -.1625)\"><defs><path id=\"DejaVuSans-63\" transform=\"scale(.015625)\" d=\"m3122 3366v-538q-244 135-489 202t-495 67q-560 0-870-355-309-354-309-995t309-996q310-354 870-354 250 0 495 67t489 202v-532q-241-112-499-168-257-57-548-57-791 0-1257 497-465 497-465 1341 0 856 470 1346 471 491 1290 491 265 0 518-55 253-54 491-163z\"/></defs><use xlink:href=\"#DejaVuSans-63\"/></g></g><g clip-path=\"url(#p0e6c38ce68)\"><g transform=\"translate(83.146 47.148) scale(.13 -.13)\" fill=\"#ffffff\"><defs><path id=\"DejaVuSans-48\" transform=\"scale(.015625)\" d=\"m628 4666h631v-1913h2294v1913h631v-4666h-631v2222h-2294v-2222h-631v4666z\"/></defs><use xlink:href=\"#DejaVuSans-48\"/></g></g><g clip-path=\"url(#p0e6c38ce68)\"><g transform=\"translate(83.146 92.599) scale(.13 -.13)\" fill=\"#ffffff\"><use xlink:href=\"#DejaVuSans-48\"/></g></g><g clip-path=\"url(#p0e6c38ce68)\"><g transform=\"translate(264.95 92.599) scale(.13 -.13)\" fill=\"#ffffff\"><use xlink:href=\"#DejaVuSans-48\"/></g></g><g clip-path=\"url(#p0e6c38ce68)\"><g transform=\"translate(372.1 218.66) scale(.104 -.104)\"><use xlink:href=\"#DejaVuSans-31\"/></g></g><g clip-path=\"url(#p0e6c38ce68)\"><g transform=\"translate(355.85 47.148) scale(.13 -.13)\" fill=\"#ffffff\"><use xlink:href=\"#DejaVuSans-48\"/></g></g><g clip-path=\"url(#p0e6c38ce68)\"><g transform=\"translate(417.55 218.66) scale(.104 -.104)\"><use xlink:href=\"#DejaVuSans-30\"/></g></g><defs><clipPath id=\"p0e6c38ce68\"><rect x=\"7.2\" y=\"7.2\" width=\"428.99\" height=\"245.44\"/></clipPath></defs></svg>"
            ],
            "text/plain": [
              "<Figure size 568.197x325.08 with 1 Axes>"
            ]
          },
          "execution_count": 7,
          "metadata": {
          },
          "output_type": "execute_result"
        }
      ],
      "source": [
        "b = '11'\n",
        "n = len(b)\n",
        "simon_circuit_2 = QuantumCircuit(n*2, n)\n",
        "\n",
        "# Apply Hadamard gates before querying the oracle\n",
        "simon_circuit_2.h(range(n))\n",
        "\n",
        "# Query oracle\n",
        "simon_circuit_2 = simon_circuit_2.compose(simon_oracle(b))\n",
        "\n",
        "# Apply Hadamard gates to the input register\n",
        "simon_circuit_2.h(range(n))\n",
        "\n",
        "# Measure qubits\n",
        "simon_circuit_2.measure(range(n), range(n))\n",
        "simon_circuit_2.draw()"
      ]
    },
    {
      "cell_type": "markdown",
      "metadata": {
      },
      "source": [
        "この回路は[セクション 2](#example)で示した回路とは少し異なります。出力は異なりますが、入力衝突は同じです。つまり、どちらも $f(x) = f(x \\oplus 11)$ という性質を持っています。"
      ]
    },
    {
      "cell_type": "code",
      "execution_count": 8,
      "metadata": {
        "tags": [
          "uses-hardware"
        ]
      },
      "outputs": [
        {
          "name": "stdout",
          "output_type": "stream",
          "text": [
            "least busy backend:  ibmq_belem\n",
            "Job Status: job has successfully run\n"
          ]
        }
      ],
      "source": [
        "# Load our saved IBMQ accounts and get the least busy backend device with less than or equal to 5 qubits\n",
        "IBMQ.load_account()\n",
        "provider = IBMQ.get_provider(hub='ibm-q')\n",
        "backend = least_busy(provider.backends(filters=lambda x: x.configuration().n_qubits >= n and \n",
        "                                   not x.configuration().simulator and x.status().operational==True))\n",
        "print(\"least busy backend: \", backend)\n",
        "\n",
        "# Execute and monitor the job\n",
        "from qiskit.tools.monitor import job_monitor\n",
        "shots = 1024\n",
        "transpiled_simon_circuit = transpile(simon_circuit_2, backend, optimization_level=3)\n",
        "job = backend.run(transpiled_simon_circuit)\n",
        "job_monitor(job, interval=2)"
      ]
    },
    {
      "cell_type": "code",
      "execution_count": 9,
      "metadata": {
        "tags": [
          "uses-hardware"
        ]
      },
      "outputs": [
        {
          "data": {
            "image/svg+xml": [
              "<?xml version=\"1.0\" encoding=\"UTF-8\"?><!DOCTYPE svg  PUBLIC '-//W3C//DTD SVG 1.1//EN'  'http://www.w3.org/Graphics/SVG/1.1/DTD/svg11.dtd'><svg width=\"460.72pt\" height=\"314.57pt\" version=\"1.1\" viewBox=\"0 0 460.72 314.57\" xmlns=\"http://www.w3.org/2000/svg\" xmlns:xlink=\"http://www.w3.org/1999/xlink\"><defs><style type=\"text/css\">*{stroke-linecap:butt;stroke-linejoin:round;}</style></defs><path d=\"m0 314.57h460.72v-314.57h-460.72z\" fill=\"none\"/><path d=\"m62.921 279h390.6v-271.8h-390.6z\" fill=\"#ffffff\"/><defs><path id=\"m9ee4c1297c\" d=\"m0 0v3.5\" stroke=\"#000000\" stroke-width=\".8\"/></defs><use x=\"106.039432\" y=\"279\" stroke=\"#000000\" stroke-width=\".8\" xlink:href=\"#m9ee4c1297c\"/><g transform=\"translate(106.62 306.38) rotate(-70) scale(.14 -.14)\"><defs><path id=\"DejaVuSans-30\" transform=\"scale(.015625)\" d=\"m2034 4250q-487 0-733-480-245-479-245-1442 0-959 245-1439 246-480 733-480 491 0 736 480 246 480 246 1439 0 963-246 1442-245 480-736 480zm0 500q785 0 1199-621 414-620 414-1801 0-1178-414-1799-414-620-1199-620-784 0-1198 620-414 621-414 1799 0 1181 414 1801 414 621 1198 621z\"/></defs><use xlink:href=\"#DejaVuSans-30\"/><use x=\"63.623047\" xlink:href=\"#DejaVuSans-30\"/></g><use x=\"207.493977\" y=\"279\" stroke=\"#000000\" stroke-width=\".8\" xlink:href=\"#m9ee4c1297c\"/><g transform=\"translate(208.08 306.38) rotate(-70) scale(.14 -.14)\"><defs><path id=\"DejaVuSans-31\" transform=\"scale(.015625)\" d=\"m794 531h1031v3560l-1122-225v575l1116 225h631v-4135h1031v-531h-2687v531z\"/></defs><use xlink:href=\"#DejaVuSans-30\"/><use x=\"63.623047\" xlink:href=\"#DejaVuSans-31\"/></g><use x=\"308.948523\" y=\"279\" stroke=\"#000000\" stroke-width=\".8\" xlink:href=\"#m9ee4c1297c\"/><g transform=\"translate(309.53 306.38) rotate(-70) scale(.14 -.14)\"><use xlink:href=\"#DejaVuSans-31\"/><use x=\"63.623047\" xlink:href=\"#DejaVuSans-30\"/></g><use x=\"410.403068\" y=\"279\" stroke=\"#000000\" stroke-width=\".8\" xlink:href=\"#m9ee4c1297c\"/><g transform=\"translate(410.99 306.38) rotate(-70) scale(.14 -.14)\"><use xlink:href=\"#DejaVuSans-31\"/><use x=\"63.623047\" xlink:href=\"#DejaVuSans-31\"/></g><path d=\"m62.921 279h390.6\" clip-path=\"url(#p33827a054e)\" fill=\"none\" stroke=\"#b0b0b0\" stroke-dasharray=\"2.96,1.28\" stroke-width=\".8\"/><defs><path id=\"md5525fc6f8\" d=\"m0 0h-3.5\" stroke=\"#000000\" stroke-width=\".8\"/></defs><use x=\"62.92125\" y=\"279\" stroke=\"#000000\" stroke-width=\".8\" xlink:href=\"#md5525fc6f8\"/><g transform=\"translate(24.749 284.32) scale(.14 -.14)\"><defs><path id=\"DejaVuSans-2e\" transform=\"scale(.015625)\" d=\"m684 794h660v-794h-660v794z\"/></defs><use xlink:href=\"#DejaVuSans-30\"/><use x=\"63.623047\" xlink:href=\"#DejaVuSans-2e\"/><use x=\"95.410156\" xlink:href=\"#DejaVuSans-30\"/><use x=\"159.033203\" xlink:href=\"#DejaVuSans-30\"/></g><path d=\"m62.921 206.22h390.6\" clip-path=\"url(#p33827a054e)\" fill=\"none\" stroke=\"#b0b0b0\" stroke-dasharray=\"2.96,1.28\" stroke-width=\".8\"/><use x=\"62.92125\" y=\"206.216736\" stroke=\"#000000\" stroke-width=\".8\" xlink:href=\"#md5525fc6f8\"/><g transform=\"translate(24.749 211.54) scale(.14 -.14)\"><defs><path id=\"DejaVuSans-35\" transform=\"scale(.015625)\" d=\"m691 4666h2478v-532h-1900v-1143q137 47 274 70 138 23 276 23 781 0 1237-428 457-428 457-1159 0-753-469-1171-469-417-1322-417-294 0-599 50-304 50-629 150v635q281-153 581-228t634-75q541 0 856 284 316 284 316 772 0 487-316 771-315 285-856 285-253 0-505-56-251-56-513-175v2344z\"/></defs><use xlink:href=\"#DejaVuSans-30\"/><use x=\"63.623047\" xlink:href=\"#DejaVuSans-2e\"/><use x=\"95.410156\" xlink:href=\"#DejaVuSans-31\"/><use x=\"159.033203\" xlink:href=\"#DejaVuSans-35\"/></g><path d=\"m62.921 133.43h390.6\" clip-path=\"url(#p33827a054e)\" fill=\"none\" stroke=\"#b0b0b0\" stroke-dasharray=\"2.96,1.28\" stroke-width=\".8\"/><use x=\"62.92125\" y=\"133.433473\" stroke=\"#000000\" stroke-width=\".8\" xlink:href=\"#md5525fc6f8\"/><g transform=\"translate(24.749 138.75) scale(.14 -.14)\"><defs><path id=\"DejaVuSans-33\" transform=\"scale(.015625)\" d=\"m2597 2516q453-97 707-404 255-306 255-756 0-690-475-1069-475-378-1350-378-293 0-604 58t-642 174v609q262-153 574-231 313-78 654-78 593 0 904 234t311 681q0 413-289 645-289 233-804 233h-544v519h569q465 0 712 186t247 536q0 359-255 551-254 193-729 193-260 0-557-57-297-56-653-174v562q360 100 674 150t592 50q719 0 1137-327 419-326 419-882 0-388-222-655t-631-370z\"/></defs><use xlink:href=\"#DejaVuSans-30\"/><use x=\"63.623047\" xlink:href=\"#DejaVuSans-2e\"/><use x=\"95.410156\" xlink:href=\"#DejaVuSans-33\"/><use x=\"159.033203\" xlink:href=\"#DejaVuSans-30\"/></g><path d=\"m62.921 60.65h390.6\" clip-path=\"url(#p33827a054e)\" fill=\"none\" stroke=\"#b0b0b0\" stroke-dasharray=\"2.96,1.28\" stroke-width=\".8\"/><use x=\"62.92125\" y=\"60.650209\" stroke=\"#000000\" stroke-width=\".8\" xlink:href=\"#md5525fc6f8\"/><g transform=\"translate(24.749 65.969) scale(.14 -.14)\"><defs><path id=\"DejaVuSans-34\" transform=\"scale(.015625)\" d=\"m2419 4116-1594-2491h1594v2491zm-166 550h794v-3041h666v-525h-666v-1100h-628v1100h-2106v609l1940 2957z\"/></defs><use xlink:href=\"#DejaVuSans-30\"/><use x=\"63.623047\" xlink:href=\"#DejaVuSans-2e\"/><use x=\"95.410156\" xlink:href=\"#DejaVuSans-34\"/><use x=\"159.033203\" xlink:href=\"#DejaVuSans-35\"/></g><g transform=\"translate(17.838 185.86) rotate(-90) scale(.14 -.14)\"><defs><path id=\"DejaVuSans-50\" transform=\"scale(.015625)\" d=\"m1259 4147v-1753h794q441 0 681 228 241 228 241 650 0 419-241 647-240 228-681 228h-794zm-631 519h1425q785 0 1186-355 402-355 402-1039 0-691-402-1044-401-353-1186-353h-794v-1875h-631v4666z\"/><path id=\"DejaVuSans-72\" transform=\"scale(.015625)\" d=\"m2631 2963q-97 56-211 82-114 27-251 27-488 0-749-317t-261-911v-1844h-578v3500h578v-544q182 319 472 473 291 155 707 155 59 0 131-8 72-7 159-23l3-590z\"/><path id=\"DejaVuSans-6f\" transform=\"scale(.015625)\" d=\"m1959 3097q-462 0-731-361t-269-989 267-989q268-361 733-361 460 0 728 362 269 363 269 988 0 622-269 986-268 364-728 364zm0 487q750 0 1178-488 429-487 429-1349 0-859-429-1349-428-489-1178-489-753 0-1180 489-426 490-426 1349 0 862 426 1349 427 488 1180 488z\"/><path id=\"DejaVuSans-62\" transform=\"scale(.015625)\" d=\"m3116 1747q0 634-261 995t-717 361q-457 0-718-361t-261-995 261-995 718-361q456 0 717 361t261 995zm-1957 1222q182 312 458 463 277 152 661 152 638 0 1036-506 399-506 399-1331t-399-1332q-398-506-1036-506-384 0-661 152-276 152-458 464v-525h-578v4863h578v-1894z\"/><path id=\"DejaVuSans-61\" transform=\"scale(.015625)\" d=\"m2194 1759q-697 0-966-159t-269-544q0-306 202-486 202-179 548-179 479 0 768 339t289 901v128h-572zm1147 238v-1997h-575v531q-197-318-491-470t-719-152q-537 0-855 302-317 302-317 808 0 590 395 890 396 300 1180 300h807v57q0 397-261 614t-733 217q-300 0-585-72-284-72-546-216v532q315 122 612 182 297 61 578 61 760 0 1135-394 375-393 375-1193z\"/><path id=\"DejaVuSans-69\" transform=\"scale(.015625)\" d=\"m603 3500h575v-3500h-575v3500zm0 1363h575v-729h-575v729z\"/><path id=\"DejaVuSans-6c\" transform=\"scale(.015625)\" d=\"m603 4863h575v-4863h-575v4863z\"/><path id=\"DejaVuSans-74\" transform=\"scale(.015625)\" d=\"m1172 4494v-994h1184v-447h-1184v-1900q0-428 117-550t477-122h590v-481h-590q-666 0-919 248-253 249-253 905v1900h-422v447h422v994h578z\"/><path id=\"DejaVuSans-65\" transform=\"scale(.015625)\" d=\"m3597 1894v-281h-2644q38-594 358-905t892-311q331 0 642 81t618 244v-544q-310-131-635-200t-659-69q-838 0-1327 487-489 488-489 1320 0 859 464 1363 464 505 1252 505 706 0 1117-455 411-454 411-1235zm-575 169q-6 471-264 752-258 282-683 282-481 0-770-272t-333-766l2050 4z\"/><path id=\"DejaVuSans-73\" transform=\"scale(.015625)\" d=\"m2834 3397v-544q-243 125-506 187-262 63-544 63-428 0-642-131t-214-394q0-200 153-314t616-217l197-44q612-131 870-370t258-667q0-488-386-773-386-284-1061-284-281 0-586 55t-642 164v594q319-166 628-249 309-82 613-82 406 0 624 139 219 139 219 392 0 234-158 359-157 125-692 241l-200 47q-534 112-772 345-237 233-237 639 0 494 350 762 350 269 994 269 318 0 599-47 282-46 519-140z\"/></defs><use xlink:href=\"#DejaVuSans-50\"/><use x=\"58.552734\" xlink:href=\"#DejaVuSans-72\"/><use x=\"97.416016\" xlink:href=\"#DejaVuSans-6f\"/><use x=\"158.597656\" xlink:href=\"#DejaVuSans-62\"/><use x=\"222.074219\" xlink:href=\"#DejaVuSans-61\"/><use x=\"283.353516\" xlink:href=\"#DejaVuSans-62\"/><use x=\"346.830078\" xlink:href=\"#DejaVuSans-69\"/><use x=\"374.613281\" xlink:href=\"#DejaVuSans-6c\"/><use x=\"402.396484\" xlink:href=\"#DejaVuSans-69\"/><use x=\"430.179688\" xlink:href=\"#DejaVuSans-74\"/><use x=\"469.388672\" xlink:href=\"#DejaVuSans-69\"/><use x=\"497.171875\" xlink:href=\"#DejaVuSans-65\"/><use x=\"558.695312\" xlink:href=\"#DejaVuSans-73\"/></g><path d=\"m80.676 279h50.727v-203.28h-50.727z\" clip-path=\"url(#p33827a054e)\" fill=\"#648fff\"/><path d=\"m182.13 279h50.727v-24.166h-50.727z\" clip-path=\"url(#p33827a054e)\" fill=\"#648fff\"/><path d=\"m283.58 279h50.727v-31.274h-50.727z\" clip-path=\"url(#p33827a054e)\" fill=\"#648fff\"/><path d=\"m385.04 279h50.727v-226.5h-50.727z\" clip-path=\"url(#p33827a054e)\" fill=\"#648fff\"/><path d=\"m62.921 279v-271.8\" fill=\"none\" stroke=\"#000000\" stroke-linecap=\"square\" stroke-width=\".8\"/><path d=\"m453.52 279v-271.8\" fill=\"none\" stroke=\"#000000\" stroke-linecap=\"square\" stroke-width=\".8\"/><path d=\"m62.921 279h390.6\" fill=\"none\" stroke=\"#000000\" stroke-linecap=\"square\" stroke-width=\".8\"/><path d=\"m62.921 7.2h390.6\" fill=\"none\" stroke=\"#000000\" stroke-linecap=\"square\" stroke-width=\".8\"/><g transform=\"translate(91.725 63.475) scale(.1 -.1)\"><defs><path id=\"DejaVuSans-39\" transform=\"scale(.015625)\" d=\"m703 97v575q238-113 481-172 244-59 479-59 625 0 954 420 330 420 377 1277-181-269-460-413-278-144-615-144-700 0-1108 423-408 424-408 1159 0 718 425 1152 425 435 1131 435 810 0 1236-621 427-620 427-1801 0-1103-524-1761-523-658-1407-658-238 0-482 47-243 47-506 141zm1256 1978q425 0 673 290 249 291 249 798 0 503-249 795-248 292-673 292t-673-292-248-795q0-507 248-798 248-290 673-290z\"/></defs><use xlink:href=\"#DejaVuSans-30\"/><use x=\"63.623047\" xlink:href=\"#DejaVuSans-2e\"/><use x=\"95.410156\" xlink:href=\"#DejaVuSans-34\"/><use x=\"159.033203\" xlink:href=\"#DejaVuSans-31\"/><use x=\"222.65625\" xlink:href=\"#DejaVuSans-39\"/></g><g transform=\"translate(193.18 251.55) scale(.1 -.1)\"><use xlink:href=\"#DejaVuSans-30\"/><use x=\"63.623047\" xlink:href=\"#DejaVuSans-2e\"/><use x=\"95.410156\" xlink:href=\"#DejaVuSans-30\"/><use x=\"159.033203\" xlink:href=\"#DejaVuSans-35\"/><use x=\"222.65625\" xlink:href=\"#DejaVuSans-30\"/></g><g transform=\"translate(294.63 244.08) scale(.1 -.1)\"><defs><path id=\"DejaVuSans-36\" transform=\"scale(.015625)\" d=\"m2113 2584q-425 0-674-291-248-290-248-796 0-503 248-796 249-292 674-292t673 292q248 293 248 796 0 506-248 796-248 291-673 291zm1253 1979v-575q-238 112-480 171-242 60-480 60-625 0-955-422-329-422-376-1275 184 272 462 417 279 145 613 145 703 0 1111-427 408-426 408-1160 0-719-425-1154-425-434-1131-434-810 0-1238 620-428 621-428 1799 0 1106 525 1764t1409 658q238 0 480-47t505-140z\"/></defs><use xlink:href=\"#DejaVuSans-30\"/><use x=\"63.623047\" xlink:href=\"#DejaVuSans-2e\"/><use x=\"95.410156\" xlink:href=\"#DejaVuSans-30\"/><use x=\"159.033203\" xlink:href=\"#DejaVuSans-36\"/><use x=\"222.65625\" xlink:href=\"#DejaVuSans-34\"/></g><g transform=\"translate(396.09 39.095) scale(.1 -.1)\"><defs><path id=\"DejaVuSans-37\" transform=\"scale(.015625)\" d=\"m525 4666h3e3v-269l-1694-4397h-659l1594 4134h-2241v532z\"/></defs><use xlink:href=\"#DejaVuSans-30\"/><use x=\"63.623047\" xlink:href=\"#DejaVuSans-2e\"/><use x=\"95.410156\" xlink:href=\"#DejaVuSans-34\"/><use x=\"159.033203\" xlink:href=\"#DejaVuSans-36\"/><use x=\"222.65625\" xlink:href=\"#DejaVuSans-37\"/></g><defs><clipPath id=\"p33827a054e\"><rect x=\"62.921\" y=\"7.2\" width=\"390.6\" height=\"271.8\"/></clipPath></defs></svg>"
            ],
            "text/plain": [
              "<Figure size 504x360 with 1 Axes>"
            ]
          },
          "execution_count": 9,
          "metadata": {
          },
          "output_type": "execute_result"
        }
      ],
      "source": [
        "# Get results and plot counts\n",
        "device_counts = job.result().get_counts()\n",
        "plot_histogram(device_counts)"
      ]
    },
    {
      "cell_type": "code",
      "execution_count": 10,
      "metadata": {
        "tags": [
          "uses-hardware"
        ]
      },
      "outputs": [
        {
          "name": "stdout",
          "output_type": "stream",
          "text": [
            "b = 11\n",
            "11.00 = 0 (mod 2) (41.9%)\n",
            "11.01 = 1 (mod 2) (5.0%)\n",
            "11.10 = 1 (mod 2) (6.4%)\n",
            "11.11 = 0 (mod 2) (46.7%)\n"
          ]
        }
      ],
      "source": [
        "# Calculate the dot product of the results\n",
        "def bdotz(b, z):\n",
        "    accum = 0\n",
        "    for i in range(len(b)):\n",
        "        accum += int(b[i]) * int(z[i])\n",
        "    return (accum % 2)\n",
        "\n",
        "print('b = ' + b)\n",
        "for z in device_counts:\n",
        "    print( '{}.{} = {} (mod 2) ({:.1f}%)'.format(b, z, bdotz(b,z), device_counts[z]*100/shots))"
      ]
    },
    {
      "cell_type": "markdown",
      "metadata": {
      },
      "source": [
        "ご覧のとおり、最も重要な結果は $b\\cdot z = 0$ (mod 2) の結果です。他の結果は誤りですが、発生する確率は低くなります。誤った結果を測定する可能性が低いと仮定すると、古典的なコンピューターを使用して線形方程式系を解くことによって $b$ の値を回復できます。この $n=2$ の場合、$b = 11$ となります。"
      ]
    },
    {
      "cell_type": "markdown",
      "metadata": {
      },
      "source": [
        "## 4. オラクル<a id=\"oracle\"></a>\n",
        "\n",
        "上記の[例](#example)と Simon のアルゴリズムの[実装は](#implementation)、特に $b$ の特定の値を対象としています。問題を他の秘密ビット列に拡張するには、Simon クエリ関数またはオラクルについてさらに詳しく議論する必要があります。\n",
        "\n",
        "Simon アルゴリズムは、$y = x \\oplus の場合に限り、$f_b(x) = f_b(y)$ を満たすオラクル $f_b$ から、{0,1}^n$ の隠れたビット文字列 $b \\in {0,1}^n$ を見つけることを扱います。 {0,1}^n$ 内のすべての $x \\ に対して b$。ここで、$\\oplus$ はビット単位の XOR 演算です。したがって、$b = 0\\ldots 0$、つまりすべてゼロのビット列の場合、$f_b$ は 1 対 1 (または順列) 関数です。それ以外の場合、$b \\neq 0\\ldots 0$ の場合、$f_b$ は 2 対 1 関数です。\n",
        "\n",
        "このアルゴリズムでは、オラクルは $|x\\rangle|0\\rangle$ を入力として受け取ります。所定の $b$ に関して、オラクルは出力を 2 番目のレジスタに書き込み、$f(x) = f(x\\ となるように入力を $|x\\rangle|f_b(x)\\rangle$ に変換します。 {0,1}^n$ 内のすべての $x \\ に対して b)$ を加えます。\n",
        "\n",
        "このようなブラックボックス機能は以下の手順で実現できます。\n",
        "\n",
        "- 最初のレジスタの内容を 2 番目のレジスタにコピーします。 $$\n",
        "|x\\rangle|0\\rangle \\rightarrow |x\\rangle|x\\rangle\n",
        "$$\n",
        "\n",
        "- **(1 対 1 または 2 対 1 のマッピングの作成)** $b$ がすべてゼロでない場合、最小のインデックス $j$ が存在するため、$b_j = 1$ になります。 $x_j = 0$ の場合、2 番目のレジスタと $b$ の XOR を計算します。それ以外の場合は、2 番目のレジスタを変更しないでください。 $$\n",
        "|x\\rangle|x\\rangle \\rightarrow |x\\rangle|x \\oplus b\\rangle~\\mbox{if}~x_j = 0~\\mbox{for the least index j}\n",
        "$$\n",
        "\n",
        "- **(ランダムな置換の作成)** 2 番目のレジスタの量子ビットをランダムに置換して反転します。 $$\n",
        "|x\\rangle|y\\rangle \\rightarrow |x\\rangle|f_b(y)\\rangle\n",
        "$$\n"
      ]
    },
    {
      "cell_type": "markdown",
      "metadata": {
      },
      "source": [
        "## 5. 問題点<a id=\"problems\"></a>\n",
        "\n",
        "1. Qiskit を使用して一般的な Simon オラクルを実装します。\n",
        "2. シミュレーターとデバイスで、秘密のビット文字列 $b=1001$ を使用して一般的な Simon オラクルをテストします。結果は期待どおりですか?理由を説明。"
      ]
    },
    {
      "cell_type": "markdown",
      "metadata": {
      },
      "source": [
        "## 6. 参考文献<a id=\"references\"></a>\n",
        "\n",
        "1. ダニエル R. サイモン (1997) 「量子計算の力について」 SIAM Journal on Computing、26(5)、1474–1483、 [doi:10.1137/S0097539796298637](https://doi.org/10.1137/S0097539796298637)\n",
        "2. 蔡光雅と邱道文。 Simon の問題に対する正確なクエリの複雑さの最適な分離。 Journal of Computer and System Sciences 97: 83-93、2018、 [https://doi.org/10.1016/j.jcss.2018.05.001](https://doi.org/10.1016/j.jcss.2018.05.001)"
      ]
    },
    {
      "cell_type": "code",
      "execution_count": 11,
      "metadata": {
      },
      "outputs": [
        {
          "name": "stderr",
          "output_type": "stream",
          "text": [
            "/usr/local/anaconda3/envs/terra-unstable/lib/python3.9/site-packages/qiskit/aqua/__init__.py:86: DeprecationWarning: The package qiskit.aqua is deprecated. It was moved/refactored to qiskit-terra For more information see <https://github.com/Qiskit/qiskit-aqua/blob/main/README.md#migration-guide>\n",
            "  warn_package('aqua', 'qiskit-terra')\n"
          ]
        },
        {
          "data": {
            "text/html": [
              "<h3>Version Information</h3><table><tr><th>Qiskit Software</th><th>Version</th></tr><tr><td><code>qiskit-terra</code></td><td>0.19.0</td></tr><tr><td><code>qiskit-aer</code></td><td>0.9.1</td></tr><tr><td><code>qiskit-ignis</code></td><td>0.6.0</td></tr><tr><td><code>qiskit-ibmq-provider</code></td><td>0.17.0</td></tr><tr><td><code>qiskit-aqua</code></td><td>0.9.5</td></tr><tr><td><code>qiskit</code></td><td>0.31.0</td></tr><tr><th>System information</th></tr><tr><td>Python version</td><td>3.9.7</td></tr><tr><td>Python compiler</td><td>Clang 10.0.0 </td></tr><tr><td>Python build</td><td>default, Sep 16 2021 08:50:36</td></tr><tr><td>OS</td><td>Darwin</td></tr><tr><td>CPUs</td><td>8</td></tr><tr><td>Memory (Gb)</td><td>32.0</td></tr><tr><td colspan='2'>Fri Nov 05 15:43:27 2021 GMT</td></tr></table>"
            ],
            "text/plain": [
              "<IPython.core.display.HTML object>"
            ]
          },
          "metadata": {
          },
          "output_type": "display_data"
        }
      ],
      "source": [
        "import qiskit.tools.jupyter\n",
        "%qiskit_version_table"
      ]
    }
  ],
  "metadata": {
    "kernelspec": {
      "display_name": "Python 3",
      "language": "python",
      "name": "python3"
    },
    "language_info": {
      "codemirror_mode": {
        "name": "ipython",
        "version": 3
      },
      "file_extension": ".py",
      "mimetype": "text/x-python",
      "name": "python",
      "nbconvert_exporter": "python",
      "pygments_lexer": "ipython3",
      "version": "3.9"
    }
  },
  "nbformat": 4,
  "nbformat_minor": 2
}
